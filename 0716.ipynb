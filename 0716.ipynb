{
 "cells": [
  {
   "cell_type": "code",
   "execution_count": 1,
   "id": "5914d6b6",
   "metadata": {},
   "outputs": [],
   "source": [
    "def getCARG(first, last, years):\n",
    "    return(last/first)**(1/years)-1"
   ]
  },
  {
   "cell_type": "code",
   "execution_count": 2,
   "id": "fd9f2c8f",
   "metadata": {},
   "outputs": [
    {
     "name": "stdout",
     "output_type": "stream",
     "text": [
      "SEC CARG: 20.38%\n"
     ]
    }
   ],
   "source": [
    "cagr=getCARG(65300, 2669000, 20)\n",
    "print('SEC CARG: {:.2%}'.format(cagr))"
   ]
  },
  {
   "cell_type": "code",
   "execution_count": 3,
   "id": "18bbeff3",
   "metadata": {},
   "outputs": [
    {
     "name": "stdout",
     "output_type": "stream",
     "text": [
      "None\n",
      "None\n",
      "None\n"
     ]
    }
   ],
   "source": [
    "def func1():\n",
    "    pass\n",
    "\n",
    "def func2():\n",
    "    pass\n",
    "\n",
    "def func3():\n",
    "    return None\n",
    "\n",
    "print(func1())\n",
    "print(func2())\n",
    "print(func3())"
   ]
  },
  {
   "cell_type": "code",
   "execution_count": 4,
   "id": "02fcb287",
   "metadata": {},
   "outputs": [
    {
     "data": {
      "text/plain": [
       "('a', [1, 2, 3], <function max>)"
      ]
     },
     "execution_count": 4,
     "metadata": {},
     "output_type": "execute_result"
    }
   ],
   "source": [
    "def myFunc():\n",
    "    var1='a'\n",
    "    var2=[1,2,3]\n",
    "    var3=max\n",
    "    return var1, var2, var3\n",
    "\n",
    "myFunc()"
   ]
  },
  {
   "cell_type": "code",
   "execution_count": 5,
   "id": "55c48229",
   "metadata": {},
   "outputs": [],
   "source": [
    "s, l, f=myFunc()"
   ]
  },
  {
   "cell_type": "code",
   "execution_count": 6,
   "id": "9a77823f",
   "metadata": {},
   "outputs": [
    {
     "data": {
      "text/plain": [
       "'a'"
      ]
     },
     "execution_count": 6,
     "metadata": {},
     "output_type": "execute_result"
    }
   ],
   "source": [
    "s"
   ]
  },
  {
   "cell_type": "code",
   "execution_count": 7,
   "id": "be5c3317",
   "metadata": {},
   "outputs": [
    {
     "data": {
      "text/plain": [
       "[1, 2, 3]"
      ]
     },
     "execution_count": 7,
     "metadata": {},
     "output_type": "execute_result"
    }
   ],
   "source": [
    "l"
   ]
  },
  {
   "cell_type": "code",
   "execution_count": 8,
   "id": "e3963eb1",
   "metadata": {},
   "outputs": [
    {
     "data": {
      "text/plain": [
       "<function max>"
      ]
     },
     "execution_count": 8,
     "metadata": {},
     "output_type": "execute_result"
    }
   ],
   "source": [
    "f"
   ]
  },
  {
   "cell_type": "code",
   "execution_count": 9,
   "id": "5f0896aa",
   "metadata": {},
   "outputs": [],
   "source": [
    "insertComma=lambda x: format(x, ',')"
   ]
  },
  {
   "cell_type": "code",
   "execution_count": 10,
   "id": "8bf8f80f",
   "metadata": {},
   "outputs": [
    {
     "data": {
      "text/plain": [
       "'123,456,789'"
      ]
     },
     "execution_count": 10,
     "metadata": {},
     "output_type": "execute_result"
    }
   ],
   "source": [
    "insertComma(123456789)"
   ]
  },
  {
   "cell_type": "code",
   "execution_count": 11,
   "id": "0e00d278",
   "metadata": {},
   "outputs": [
    {
     "name": "stdout",
     "output_type": "stream",
     "text": [
      "\n",
      "Please wait a moment while I gather a list of all available modules...\n",
      "\n"
     ]
    },
    {
     "name": "stderr",
     "output_type": "stream",
     "text": [
      "WARNING: AstropyDeprecationWarning: The private astropy._erfa module has been made into its own package, pyerfa, which is a dependency of astropy and can be imported directly using \"import erfa\" [astropy._erfa]\n",
      "C:\\Users\\wjaud\\Anaconda3\\lib\\site-packages\\nltk\\twitter\\__init__.py:20: UserWarning: The twython library has not been installed. Some functionality from the twitter package will not be available.\n",
      "  warnings.warn(\n",
      "C:\\Users\\wjaud\\Anaconda3\\lib\\site-packages\\_distutils_hack\\__init__.py:30: UserWarning: Setuptools is replacing distutils.\n",
      "  warnings.warn(\"Setuptools is replacing distutils.\")\n",
      "No QCoreApplication instance found. Application patches not applied. You have to call load_stylesheet function after instantiation of QApplication to take effect. \n"
     ]
    },
    {
     "name": "stdout",
     "output_type": "stream",
     "text": [
      "Cython              commctrl            mock                socket\n",
      "IPython             compileall          modulefinder        socketserver\n",
      "OpenSSL             comtypes            mpmath              socks\n",
      "PIL                 concurrent          msgpack             sockshandler\n",
      "PyQt5               conda               msilib              sortedcollections\n",
      "TBB                 conda_build         msvcrt              sortedcontainers\n",
      "__future__          conda_content_trust multidict           soupsieve\n",
      "_abc                conda_env           multipledispatch    sphinx\n",
      "_aix_support        conda_pack          multiprocessing     spyder\n",
      "_argon2_cffi_bindings conda_package_handling multitasking        spyder_kernels\n",
      "_ast                conda_token         munkres             sqlalchemy\n",
      "_asyncio            conda_verify        mypy_extensions     sqlite3\n",
      "_bisect             configparser        nacl                sre_compile\n",
      "_black_version      constantly          navigator_updater   sre_constants\n",
      "_blake2             contextlib          nbclassic           sre_parse\n",
      "_bootlocale         contextvars         nbclient            ssl\n",
      "_bootsubprocess     cookiecutter        nbconvert           sspi\n",
      "_bz2                copy                nbformat            sspicon\n",
      "_cffi_backend       copyreg             nest_asyncio        stack_data\n",
      "_codecs             crypt               netbios             stat\n",
      "_codecs_cn          cryptography        netrc               statistics\n",
      "_codecs_hk          cssselect           networkx            statsmodels\n",
      "_codecs_iso2022     csv                 nltk                string\n",
      "_codecs_jp          ctypes              nntplib             stringprep\n",
      "_codecs_kr          curl                nose                struct\n",
      "_codecs_tw          curses              notebook            subprocess\n",
      "_collections        cwp                 nt                  sunau\n",
      "_collections_abc    cycler              ntpath              symbol\n",
      "_compat_pickle      cython              ntsecuritycon       sympy\n",
      "_compression        cytoolz             nturl2path          symtable\n",
      "_contextvars        daal4py             numba               sys\n",
      "_csv                dask                numbergen           sysconfig\n",
      "_ctypes             dataclasses         numbers             tables\n",
      "_ctypes_test        datashader          numexpr             tabnanny\n",
      "_datetime           datashape           numpy               tabulate\n",
      "_decimal            datetime            numpydoc            tarfile\n",
      "_distutils_hack     dateutil            odbc                tbb\n",
      "_elementtree        dbi                 olefile             tblib\n",
      "_functools          dbm                 onedal              telnetlib\n",
      "_hashlib            dde                 opcode              tempfile\n",
      "_heapq              debugpy             openpyxl            tenacity\n",
      "_imp                decimal             operator            terminado\n",
      "_io                 decorator           optparse            test\n",
      "_json               defusedxml          os                  test_pycosat\n",
      "_locale             diff_match_patch    packaging           testpath\n",
      "_lsprof             difflib             pandas              text_unidecode\n",
      "_lzma               dis                 pandocfilters       textdistance\n",
      "_markupbase         distributed         panel               textwrap\n",
      "_md5                distutils           param               this\n",
      "_msi                doctest             paramiko            threading\n",
      "_multibytecodec     docutils            parsel              threadpoolctl\n",
      "_multiprocessing    email               parser              three_merge\n",
      "_nsis               encodings           parso               tifffile\n",
      "_opcode             ensurepip           partd               time\n",
      "_operator           entrypoints         past                timeit\n",
      "_osx_support        enum                pathlib             timer\n",
      "_overlapped         erfa                pathspec            tinycss\n",
      "_peg_parser         errno               patsy               tkinter\n",
      "_pickle             et_xmlfile          pdb                 tldextract\n",
      "_plotly_future_     executing           pep8                tlz\n",
      "_plotly_utils       fastjsonschema      perfmon             token\n",
      "_py_abc             faulthandler        pexpect             tokenize\n",
      "_pydecimal          filecmp             pickle              toml\n",
      "_pyio               fileinput           pickleshare         tomli\n",
      "_pyrsistent_version filelock            pickletools         toolz\n",
      "_pytest             flake8              pip                 tornado\n",
      "_queue              flask               pipes               tqdm\n",
      "_random             fnmatch             pkg_resources       trace\n",
      "_sha1               fontTools           pkginfo             traceback\n",
      "_sha256             formatter           pkgutil             tracemalloc\n",
      "_sha3               fractions           platform            traitlets\n",
      "_sha512             frozenlist          plistlib            tty\n",
      "_signal             fsspec              plotly              turtle\n",
      "_sitebuiltins       ftplib              pluggy              turtledemo\n",
      "_socket             functools           poplib              twisted\n",
      "_sqlite3            future              posixpath           typed_ast\n",
      "_sre                gc                  poyo                types\n",
      "_ssl                genericpath         pprint              typing\n",
      "_stat               gensim              profile             typing_extensions\n",
      "_statistics         getopt              prometheus_client   ujson\n",
      "_string             getpass             prompt_toolkit      unicodedata\n",
      "_strptime           gettext             protego             unidecode\n",
      "_struct             glob                pstats              unittest\n",
      "_symtable           glob2               psutil              urllib\n",
      "_system_path        google_crc32c       pty                 urllib3\n",
      "_testbuffer         graphlib            ptyprocess          uu\n",
      "_testcapi           greenlet            pure_eval           uuid\n",
      "_testconsole        grpc                pvectorc            venv\n",
      "_testimportmultiple gzip                py                  w3lib\n",
      "_testinternalcapi   h5py                py_compile          warnings\n",
      "_testmultiphase     hamcrest            pyasn1              watchdog\n",
      "_thread             hashlib             pyasn1_modules      wave\n",
      "_threading_local    heapdict            pyclbr              wcwidth\n",
      "_tkinter            heapq               pycodestyle         weakref\n",
      "_tracemalloc        hmac                pycosat             webbrowser\n",
      "_uuid               holoviews           pycparser           webencodings\n",
      "_warnings           html                pyct                websocket\n",
      "_weakref            http                pycurl              werkzeug\n",
      "_weakrefset         hvplot              pydispatch          wheel\n",
      "_win32sysloader     hyperlink           pydoc               widgetsnbextension\n",
      "_winapi             idlelib             pydoc_data          win2kras\n",
      "_winxptheme         idna                pydocstyle          win32api\n",
      "_xxsubinterpreters  imagecodecs         pyexpat             win32clipboard\n",
      "_yaml               imageio             pyflakes            win32com\n",
      "_zoneinfo           imagesize           pygments            win32con\n",
      "abc                 imaplib             pylab               win32console\n",
      "adodbapi            imghdr              pylint              win32cred\n",
      "afxres              imp                 pyls_spyder         win32crypt\n",
      "aifc                importlib           pylsp               win32cryptcon\n",
      "aiohttp             importlib_metadata  pylsp_black         win32ctypes\n",
      "aiosignal           incremental         pylsp_jsonrpc       win32event\n",
      "alabaster           inflection          pyodbc              win32evtlog\n",
      "anaconda_navigator  iniconfig           pyparsing           win32evtlogutil\n",
      "anaconda_project    inspect             pyreadline          win32file\n",
      "antigravity         intake              pyrsistent          win32gui\n",
      "anyio               intervaltree        pytest              win32gui_struct\n",
      "appdirs             io                  pythoncom           win32help\n",
      "argon2              ipaddress           pytz                win32inet\n",
      "argparse            ipykernel           pyviz_comms         win32inetcon\n",
      "array               ipykernel_launcher  pywin               win32job\n",
      "arrow               ipython_genutils    pywin32_bootstrap   win32lz\n",
      "ast                 ipywidgets          pywin32_testutil    win32net\n",
      "astroid             isapi               pywintypes          win32netcon\n",
      "astropy             isort               pywt                win32pdh\n",
      "asttokens           isympy              pyximport           win32pdhquery\n",
      "async_timeout       itemadapter         qdarkstyle          win32pdhutil\n",
      "asynchat            itemloaders         qstylizer           win32pipe\n",
      "asyncio             itertools           qtawesome           win32print\n",
      "asyncore            itsdangerous        qtconsole           win32process\n",
      "atexit              jdcal               qtpy                win32profile\n",
      "atomicwrites        jedi                queue               win32ras\n",
      "attr                jinja2              queuelib            win32rcparser\n",
      "attrs               jinja2_time         quopri              win32security\n",
      "audioop             jmespath            random              win32service\n",
      "automat             joblib              rasutil             win32serviceutil\n",
      "autopep8            json                re                  win32timezone\n",
      "babel               json5               readline            win32trace\n",
      "backcall            jsonschema          regcheck            win32traceutil\n",
      "backports           jupyter             regex               win32transaction\n",
      "base64              jupyter_client      regutil             win32ts\n",
      "bcrypt              jupyter_console     repo_cli            win32ui\n",
      "bdb                 jupyter_core        reprlib             win32uiole\n",
      "binaryornot         jupyter_server      requests            win32verstamp\n",
      "binascii            jupyterlab          requests_file       win32wnet\n",
      "binhex              jupyterlab_plotly   rlcompleter         win_inet_pton\n",
      "binstar_client      jupyterlab_pygments rope                win_unicode_console\n",
      "bisect              jupyterlab_server   rsa                 wincertstore\n",
      "bitarray            jupyterlab_widgets  rtree               winerror\n",
      "bkcharts            jwt                 ruamel_yaml         winioctlcon\n",
      "black               keyring             run                 winnt\n",
      "blackd              keyword             runpy               winperf\n",
      "bleach              kiwisolver          s3transfer          winpty\n",
      "blib2to3            lazy_object_proxy   sched               winreg\n",
      "bokeh               lib2to3             scipy               winsound\n",
      "boto3               libarchive          scrapy              winxpgui\n",
      "botocore            libfuturize         seaborn             winxptheme\n",
      "bottleneck          libpasteurize       secrets             wrapt\n",
      "brotli              lief                select              wsgiref\n",
      "bs4                 linecache           selectors           xarray\n",
      "builtins            llvmlite            send2trash          xdrlib\n",
      "bz2                 locale              service_identity    xlrd\n",
      "cProfile            locket              servicemanager      xlsxwriter\n",
      "cachetools          logging             setuptools          xlwings\n",
      "calendar            lxml                shelve              xml\n",
      "certifi             lzma                shlex               xmlrpc\n",
      "cffi                mailbox             shutil              xxsubtype\n",
      "cgi                 mailcap             signal              yaml\n",
      "cgitb               markdown            sip                 yapf\n",
      "chardet             markupsafe          sipconfig           yapftests\n",
      "charset_normalizer  marshal             sipdistutils        yarl\n",
      "chunk               math                site                yfinance\n",
      "click               matplotlib          six                 zict\n",
      "cloudpickle         matplotlib_inline   skimage             zipapp\n",
      "clyent              mccabe              sklearn             zipfile\n",
      "cmath               menuinst            sklearnex           zipimport\n",
      "cmd                 mimetypes           slugify             zipp\n",
      "code                mistune             smart_open          zlib\n",
      "codecs              mkl                 smtpd               zmq\n",
      "codeop              mkl_fft             smtplib             zoneinfo\n",
      "collections         mkl_random          snappy              zope\n",
      "colorama            mmap                sndhdr              \n",
      "colorcet            mmapfile            sniffio             \n",
      "colorsys            mmsystem            snowballstemmer     \n",
      "\n",
      "Enter any module name to get more help.  Or, type \"modules spam\" to search\n",
      "for modules whose name or summary contain the string \"spam\".\n",
      "\n"
     ]
    },
    {
     "name": "stderr",
     "output_type": "stream",
     "text": [
      "C:\\Users\\wjaud\\Anaconda3\\lib\\pkgutil.py:108: VisibleDeprecationWarning:\n",
      "\n",
      "zmq.eventloop.minitornado is deprecated in pyzmq 14.0 and will be removed.\n",
      "    Install tornado itself to use zmq with the tornado IOLoop.\n",
      "    \n",
      "\n"
     ]
    }
   ],
   "source": [
    "help('modules')"
   ]
  },
  {
   "cell_type": "code",
   "execution_count": 12,
   "id": "f37bf70b",
   "metadata": {},
   "outputs": [
    {
     "data": {
      "text/plain": [
       "['False',\n",
       " 'None',\n",
       " 'True',\n",
       " '__peg_parser__',\n",
       " 'and',\n",
       " 'as',\n",
       " 'assert',\n",
       " 'async',\n",
       " 'await',\n",
       " 'break',\n",
       " 'class',\n",
       " 'continue',\n",
       " 'def',\n",
       " 'del',\n",
       " 'elif',\n",
       " 'else',\n",
       " 'except',\n",
       " 'finally',\n",
       " 'for',\n",
       " 'from',\n",
       " 'global',\n",
       " 'if',\n",
       " 'import',\n",
       " 'in',\n",
       " 'is',\n",
       " 'lambda',\n",
       " 'nonlocal',\n",
       " 'not',\n",
       " 'or',\n",
       " 'pass',\n",
       " 'raise',\n",
       " 'return',\n",
       " 'try',\n",
       " 'while',\n",
       " 'with',\n",
       " 'yield']"
      ]
     },
     "execution_count": 12,
     "metadata": {},
     "output_type": "execute_result"
    }
   ],
   "source": [
    "import keyword\n",
    "keyword.kwlist"
   ]
  },
  {
   "cell_type": "code",
   "execution_count": 13,
   "id": "964459b5",
   "metadata": {},
   "outputs": [
    {
     "name": "stdout",
     "output_type": "stream",
     "text": [
      "Requirement already satisfied: yfinance in c:\\users\\wjaud\\anaconda3\\lib\\site-packages (0.1.74)\n",
      "Requirement already satisfied: lxml>=4.5.1 in c:\\users\\wjaud\\anaconda3\\lib\\site-packages (from yfinance) (4.8.0)\n",
      "Requirement already satisfied: pandas>=0.24.0 in c:\\users\\wjaud\\anaconda3\\lib\\site-packages (from yfinance) (1.4.2)\n",
      "Requirement already satisfied: multitasking>=0.0.7 in c:\\users\\wjaud\\anaconda3\\lib\\site-packages (from yfinance) (0.0.11)\n",
      "Requirement already satisfied: requests>=2.26 in c:\\users\\wjaud\\anaconda3\\lib\\site-packages (from yfinance) (2.27.1)\n",
      "Requirement already satisfied: numpy>=1.15 in c:\\users\\wjaud\\anaconda3\\lib\\site-packages (from yfinance) (1.21.5)\n",
      "Requirement already satisfied: pytz>=2020.1 in c:\\users\\wjaud\\anaconda3\\lib\\site-packages (from pandas>=0.24.0->yfinance) (2021.3)\n",
      "Requirement already satisfied: python-dateutil>=2.8.1 in c:\\users\\wjaud\\anaconda3\\lib\\site-packages (from pandas>=0.24.0->yfinance) (2.8.2)\n",
      "Requirement already satisfied: six>=1.5 in c:\\users\\wjaud\\anaconda3\\lib\\site-packages (from python-dateutil>=2.8.1->pandas>=0.24.0->yfinance) (1.16.0)\n",
      "Requirement already satisfied: certifi>=2017.4.17 in c:\\users\\wjaud\\anaconda3\\lib\\site-packages (from requests>=2.26->yfinance) (2021.10.8)\n",
      "Requirement already satisfied: idna<4,>=2.5 in c:\\users\\wjaud\\anaconda3\\lib\\site-packages (from requests>=2.26->yfinance) (3.3)\n",
      "Requirement already satisfied: charset-normalizer~=2.0.0 in c:\\users\\wjaud\\anaconda3\\lib\\site-packages (from requests>=2.26->yfinance) (2.0.4)\n",
      "Requirement already satisfied: urllib3<1.27,>=1.21.1 in c:\\users\\wjaud\\anaconda3\\lib\\site-packages (from requests>=2.26->yfinance) (1.26.9)\n",
      "Note: you may need to restart the kernel to use updated packages.\n"
     ]
    }
   ],
   "source": [
    "pip install yfinance"
   ]
  },
  {
   "cell_type": "code",
   "execution_count": 14,
   "id": "1b07b984",
   "metadata": {},
   "outputs": [
    {
     "name": "stdout",
     "output_type": "stream",
     "text": [
      "Collecting pandas-datareader\n",
      "  Downloading pandas_datareader-0.10.0-py3-none-any.whl (109 kB)\n",
      "Requirement already satisfied: requests>=2.19.0 in c:\\users\\wjaud\\anaconda3\\lib\\site-packages (from pandas-datareader) (2.27.1)\n",
      "Requirement already satisfied: pandas>=0.23 in c:\\users\\wjaud\\anaconda3\\lib\\site-packages (from pandas-datareader) (1.4.2)\n",
      "Requirement already satisfied: lxml in c:\\users\\wjaud\\anaconda3\\lib\\site-packages (from pandas-datareader) (4.8.0)\n",
      "Requirement already satisfied: pytz>=2020.1 in c:\\users\\wjaud\\anaconda3\\lib\\site-packages (from pandas>=0.23->pandas-datareader) (2021.3)\n",
      "Requirement already satisfied: numpy>=1.18.5 in c:\\users\\wjaud\\anaconda3\\lib\\site-packages (from pandas>=0.23->pandas-datareader) (1.21.5)\n",
      "Requirement already satisfied: python-dateutil>=2.8.1 in c:\\users\\wjaud\\anaconda3\\lib\\site-packages (from pandas>=0.23->pandas-datareader) (2.8.2)\n",
      "Requirement already satisfied: six>=1.5 in c:\\users\\wjaud\\anaconda3\\lib\\site-packages (from python-dateutil>=2.8.1->pandas>=0.23->pandas-datareader) (1.16.0)\n",
      "Requirement already satisfied: certifi>=2017.4.17 in c:\\users\\wjaud\\anaconda3\\lib\\site-packages (from requests>=2.19.0->pandas-datareader) (2021.10.8)\n",
      "Requirement already satisfied: charset-normalizer~=2.0.0 in c:\\users\\wjaud\\anaconda3\\lib\\site-packages (from requests>=2.19.0->pandas-datareader) (2.0.4)\n",
      "Requirement already satisfied: idna<4,>=2.5 in c:\\users\\wjaud\\anaconda3\\lib\\site-packages (from requests>=2.19.0->pandas-datareader) (3.3)\n",
      "Requirement already satisfied: urllib3<1.27,>=1.21.1 in c:\\users\\wjaud\\anaconda3\\lib\\site-packages (from requests>=2.19.0->pandas-datareader) (1.26.9)\n",
      "Installing collected packages: pandas-datareader\n",
      "Successfully installed pandas-datareader-0.10.0\n",
      "Note: you may need to restart the kernel to use updated packages.\n"
     ]
    }
   ],
   "source": [
    "pip install pandas-datareader"
   ]
  },
  {
   "cell_type": "code",
   "execution_count": 7,
   "id": "27d2562c",
   "metadata": {},
   "outputs": [
    {
     "name": "stdout",
     "output_type": "stream",
     "text": [
      "[*********************100%***********************]  1 of 1 completed\n",
      "[*********************100%***********************]  1 of 1 completed\n"
     ]
    }
   ],
   "source": [
    "from pandas_datareader import data as pdr\n",
    "import yfinance as yf\n",
    "yf.pdr_override()\n",
    "\n",
    "sec=pdr.get_data_yahoo('005930.KS', start='2022-05-04')\n",
    "msft=pdr.get_data_yahoo('MSFT', start='2018-05-04')"
   ]
  },
  {
   "cell_type": "code",
   "execution_count": 8,
   "id": "a7bc81b6",
   "metadata": {},
   "outputs": [
    {
     "data": {
      "text/html": [
       "<div>\n",
       "<style scoped>\n",
       "    .dataframe tbody tr th:only-of-type {\n",
       "        vertical-align: middle;\n",
       "    }\n",
       "\n",
       "    .dataframe tbody tr th {\n",
       "        vertical-align: top;\n",
       "    }\n",
       "\n",
       "    .dataframe thead th {\n",
       "        text-align: right;\n",
       "    }\n",
       "</style>\n",
       "<table border=\"1\" class=\"dataframe\">\n",
       "  <thead>\n",
       "    <tr style=\"text-align: right;\">\n",
       "      <th></th>\n",
       "      <th>Open</th>\n",
       "      <th>High</th>\n",
       "      <th>Low</th>\n",
       "      <th>Close</th>\n",
       "      <th>Adj Close</th>\n",
       "      <th>Volume</th>\n",
       "    </tr>\n",
       "    <tr>\n",
       "      <th>Date</th>\n",
       "      <th></th>\n",
       "      <th></th>\n",
       "      <th></th>\n",
       "      <th></th>\n",
       "      <th></th>\n",
       "      <th></th>\n",
       "    </tr>\n",
       "  </thead>\n",
       "  <tbody>\n",
       "    <tr>\n",
       "      <th>2022-05-04</th>\n",
       "      <td>68000.0</td>\n",
       "      <td>68400.0</td>\n",
       "      <td>67500.0</td>\n",
       "      <td>67900.0</td>\n",
       "      <td>67900.0</td>\n",
       "      <td>11505248</td>\n",
       "    </tr>\n",
       "    <tr>\n",
       "      <th>2022-05-06</th>\n",
       "      <td>67000.0</td>\n",
       "      <td>67100.0</td>\n",
       "      <td>66500.0</td>\n",
       "      <td>66500.0</td>\n",
       "      <td>66500.0</td>\n",
       "      <td>14356156</td>\n",
       "    </tr>\n",
       "    <tr>\n",
       "      <th>2022-05-10</th>\n",
       "      <td>65900.0</td>\n",
       "      <td>66300.0</td>\n",
       "      <td>65300.0</td>\n",
       "      <td>65700.0</td>\n",
       "      <td>65700.0</td>\n",
       "      <td>17235605</td>\n",
       "    </tr>\n",
       "    <tr>\n",
       "      <th>2022-05-11</th>\n",
       "      <td>65500.0</td>\n",
       "      <td>66300.0</td>\n",
       "      <td>65200.0</td>\n",
       "      <td>65700.0</td>\n",
       "      <td>65700.0</td>\n",
       "      <td>12330920</td>\n",
       "    </tr>\n",
       "    <tr>\n",
       "      <th>2022-05-12</th>\n",
       "      <td>65200.0</td>\n",
       "      <td>65500.0</td>\n",
       "      <td>64900.0</td>\n",
       "      <td>64900.0</td>\n",
       "      <td>64900.0</td>\n",
       "      <td>16414188</td>\n",
       "    </tr>\n",
       "    <tr>\n",
       "      <th>2022-05-13</th>\n",
       "      <td>65300.0</td>\n",
       "      <td>66700.0</td>\n",
       "      <td>65200.0</td>\n",
       "      <td>66500.0</td>\n",
       "      <td>66500.0</td>\n",
       "      <td>14551536</td>\n",
       "    </tr>\n",
       "    <tr>\n",
       "      <th>2022-05-16</th>\n",
       "      <td>67100.0</td>\n",
       "      <td>67400.0</td>\n",
       "      <td>66100.0</td>\n",
       "      <td>66300.0</td>\n",
       "      <td>66300.0</td>\n",
       "      <td>11937555</td>\n",
       "    </tr>\n",
       "    <tr>\n",
       "      <th>2022-05-17</th>\n",
       "      <td>66600.0</td>\n",
       "      <td>67900.0</td>\n",
       "      <td>66600.0</td>\n",
       "      <td>67600.0</td>\n",
       "      <td>67600.0</td>\n",
       "      <td>15680447</td>\n",
       "    </tr>\n",
       "    <tr>\n",
       "      <th>2022-05-18</th>\n",
       "      <td>68300.0</td>\n",
       "      <td>68700.0</td>\n",
       "      <td>67600.0</td>\n",
       "      <td>68100.0</td>\n",
       "      <td>68100.0</td>\n",
       "      <td>16486319</td>\n",
       "    </tr>\n",
       "    <tr>\n",
       "      <th>2022-05-19</th>\n",
       "      <td>66500.0</td>\n",
       "      <td>67600.0</td>\n",
       "      <td>66500.0</td>\n",
       "      <td>67500.0</td>\n",
       "      <td>67500.0</td>\n",
       "      <td>17073727</td>\n",
       "    </tr>\n",
       "  </tbody>\n",
       "</table>\n",
       "</div>"
      ],
      "text/plain": [
       "               Open     High      Low    Close  Adj Close    Volume\n",
       "Date                                                               \n",
       "2022-05-04  68000.0  68400.0  67500.0  67900.0    67900.0  11505248\n",
       "2022-05-06  67000.0  67100.0  66500.0  66500.0    66500.0  14356156\n",
       "2022-05-10  65900.0  66300.0  65300.0  65700.0    65700.0  17235605\n",
       "2022-05-11  65500.0  66300.0  65200.0  65700.0    65700.0  12330920\n",
       "2022-05-12  65200.0  65500.0  64900.0  64900.0    64900.0  16414188\n",
       "2022-05-13  65300.0  66700.0  65200.0  66500.0    66500.0  14551536\n",
       "2022-05-16  67100.0  67400.0  66100.0  66300.0    66300.0  11937555\n",
       "2022-05-17  66600.0  67900.0  66600.0  67600.0    67600.0  15680447\n",
       "2022-05-18  68300.0  68700.0  67600.0  68100.0    68100.0  16486319\n",
       "2022-05-19  66500.0  67600.0  66500.0  67500.0    67500.0  17073727"
      ]
     },
     "execution_count": 8,
     "metadata": {},
     "output_type": "execute_result"
    }
   ],
   "source": [
    "sec.head(10)"
   ]
  },
  {
   "cell_type": "code",
   "execution_count": 11,
   "id": "09cc78c1",
   "metadata": {},
   "outputs": [
    {
     "data": {
      "text/html": [
       "<div>\n",
       "<style scoped>\n",
       "    .dataframe tbody tr th:only-of-type {\n",
       "        vertical-align: middle;\n",
       "    }\n",
       "\n",
       "    .dataframe tbody tr th {\n",
       "        vertical-align: top;\n",
       "    }\n",
       "\n",
       "    .dataframe thead th {\n",
       "        text-align: right;\n",
       "    }\n",
       "</style>\n",
       "<table border=\"1\" class=\"dataframe\">\n",
       "  <thead>\n",
       "    <tr style=\"text-align: right;\">\n",
       "      <th></th>\n",
       "      <th>Open</th>\n",
       "      <th>High</th>\n",
       "      <th>Low</th>\n",
       "      <th>Close</th>\n",
       "      <th>Adj Close</th>\n",
       "    </tr>\n",
       "    <tr>\n",
       "      <th>Date</th>\n",
       "      <th></th>\n",
       "      <th></th>\n",
       "      <th></th>\n",
       "      <th></th>\n",
       "      <th></th>\n",
       "    </tr>\n",
       "  </thead>\n",
       "  <tbody>\n",
       "    <tr>\n",
       "      <th>2022-07-11</th>\n",
       "      <td>265.649994</td>\n",
       "      <td>266.529999</td>\n",
       "      <td>262.179993</td>\n",
       "      <td>264.510010</td>\n",
       "      <td>264.510010</td>\n",
       "    </tr>\n",
       "    <tr>\n",
       "      <th>2022-07-12</th>\n",
       "      <td>265.880005</td>\n",
       "      <td>265.940002</td>\n",
       "      <td>252.039993</td>\n",
       "      <td>253.669998</td>\n",
       "      <td>253.669998</td>\n",
       "    </tr>\n",
       "    <tr>\n",
       "      <th>2022-07-13</th>\n",
       "      <td>250.190002</td>\n",
       "      <td>253.550003</td>\n",
       "      <td>248.110001</td>\n",
       "      <td>252.720001</td>\n",
       "      <td>252.720001</td>\n",
       "    </tr>\n",
       "    <tr>\n",
       "      <th>2022-07-14</th>\n",
       "      <td>250.570007</td>\n",
       "      <td>255.139999</td>\n",
       "      <td>245.940002</td>\n",
       "      <td>254.080002</td>\n",
       "      <td>254.080002</td>\n",
       "    </tr>\n",
       "    <tr>\n",
       "      <th>2022-07-15</th>\n",
       "      <td>255.720001</td>\n",
       "      <td>260.369995</td>\n",
       "      <td>254.770004</td>\n",
       "      <td>256.720001</td>\n",
       "      <td>256.720001</td>\n",
       "    </tr>\n",
       "  </tbody>\n",
       "</table>\n",
       "</div>"
      ],
      "text/plain": [
       "                  Open        High         Low       Close   Adj Close\n",
       "Date                                                                  \n",
       "2022-07-11  265.649994  266.529999  262.179993  264.510010  264.510010\n",
       "2022-07-12  265.880005  265.940002  252.039993  253.669998  253.669998\n",
       "2022-07-13  250.190002  253.550003  248.110001  252.720001  252.720001\n",
       "2022-07-14  250.570007  255.139999  245.940002  254.080002  254.080002\n",
       "2022-07-15  255.720001  260.369995  254.770004  256.720001  256.720001"
      ]
     },
     "execution_count": 11,
     "metadata": {},
     "output_type": "execute_result"
    }
   ],
   "source": [
    "tmp_msft=msft.drop(columns='Volume')\n",
    "tmp_msft.tail()"
   ]
  },
  {
   "cell_type": "code",
   "execution_count": 12,
   "id": "1dedbe4b",
   "metadata": {},
   "outputs": [
    {
     "data": {
      "text/plain": [
       "DatetimeIndex(['2022-05-04', '2022-05-06', '2022-05-10', '2022-05-11',\n",
       "               '2022-05-12', '2022-05-13', '2022-05-16', '2022-05-17',\n",
       "               '2022-05-18', '2022-05-19', '2022-05-20', '2022-05-23',\n",
       "               '2022-05-24', '2022-05-25', '2022-05-26', '2022-05-27',\n",
       "               '2022-05-30', '2022-05-31', '2022-06-02', '2022-06-03',\n",
       "               '2022-06-07', '2022-06-08', '2022-06-09', '2022-06-10',\n",
       "               '2022-06-13', '2022-06-14', '2022-06-15', '2022-06-16',\n",
       "               '2022-06-17', '2022-06-20', '2022-06-21', '2022-06-22',\n",
       "               '2022-06-23', '2022-06-24', '2022-06-27', '2022-06-28',\n",
       "               '2022-06-29', '2022-06-30', '2022-07-01', '2022-07-04',\n",
       "               '2022-07-05', '2022-07-06', '2022-07-07', '2022-07-08',\n",
       "               '2022-07-11', '2022-07-12', '2022-07-13', '2022-07-14',\n",
       "               '2022-07-15'],\n",
       "              dtype='datetime64[ns]', name='Date', freq=None)"
      ]
     },
     "execution_count": 12,
     "metadata": {},
     "output_type": "execute_result"
    }
   ],
   "source": [
    "sec.index"
   ]
  },
  {
   "cell_type": "code",
   "execution_count": 13,
   "id": "368f65f4",
   "metadata": {},
   "outputs": [
    {
     "data": {
      "text/plain": [
       "Index(['Open', 'High', 'Low', 'Close', 'Adj Close', 'Volume'], dtype='object')"
      ]
     },
     "execution_count": 13,
     "metadata": {},
     "output_type": "execute_result"
    }
   ],
   "source": [
    "sec.columns"
   ]
  },
  {
   "cell_type": "code",
   "execution_count": 16,
   "id": "dfdd124e",
   "metadata": {},
   "outputs": [
    {
     "name": "stdout",
     "output_type": "stream",
     "text": [
      "[*********************100%***********************]  1 of 1 completed\n",
      "[*********************100%***********************]  1 of 1 completed\n"
     ]
    },
    {
     "data": {
      "image/png": "[encoded data removed]",
      "text/plain": [
       "<Figure size 432x288 with 1 Axes>"
      ]
     },
     "metadata": {
      "needs_background": "light"
     },
     "output_type": "display_data"
    }
   ],
   "source": [
    "from pandas_datareader import data as pdr\n",
    "import yfinance as yf\n",
    "yf.pdr_override()\n",
    "\n",
    "sec=pdr.get_data_yahoo('005930.KS', start='2022-07-10')\n",
    "msft=pdr.get_data_yahoo('035720.KS', start='2022-07-10')\n",
    "\n",
    "import matplotlib.pyplot as plt\n",
    "\n",
    "plt.plot(sec.index, sec.Close, 'b', label='Samsung Electronics')\n",
    "plt.plot(msft.index, msft.Close, 'r', label='Microsoft')\n",
    "plt.legend(loc='best')\n",
    "plt.show()"
   ]
  },
  {
   "cell_type": "code",
   "execution_count": 18,
   "id": "4f09cc3c",
   "metadata": {},
   "outputs": [],
   "source": [
    "from pandas_datareader import data as pdr\n",
    "import yfinance as yf\n",
    "yf.pdr_override()"
   ]
  },
  {
   "cell_type": "code",
   "execution_count": 22,
   "id": "ed30a5b3",
   "metadata": {},
   "outputs": [
    {
     "name": "stdout",
     "output_type": "stream",
     "text": [
      "[*********************100%***********************]  1 of 1 completed\n",
      "[*********************100%***********************]  1 of 1 completed\n"
     ]
    }
   ],
   "source": [
    "sec=pdr.get_data_yahoo('005930.KS', start='2022-07-10')\n",
    "msft=pdr.get_data_yahoo('035720.KS', start='2022-07-10')"
   ]
  },
  {
   "cell_type": "code",
   "execution_count": 23,
   "id": "f05df7d7",
   "metadata": {},
   "outputs": [
    {
     "data": {
      "text/html": [
       "<div>\n",
       "<style scoped>\n",
       "    .dataframe tbody tr th:only-of-type {\n",
       "        vertical-align: middle;\n",
       "    }\n",
       "\n",
       "    .dataframe tbody tr th {\n",
       "        vertical-align: top;\n",
       "    }\n",
       "\n",
       "    .dataframe thead th {\n",
       "        text-align: right;\n",
       "    }\n",
       "</style>\n",
       "<table border=\"1\" class=\"dataframe\">\n",
       "  <thead>\n",
       "    <tr style=\"text-align: right;\">\n",
       "      <th></th>\n",
       "      <th>Open</th>\n",
       "      <th>High</th>\n",
       "      <th>Low</th>\n",
       "      <th>Close</th>\n",
       "      <th>Adj Close</th>\n",
       "      <th>Volume</th>\n",
       "    </tr>\n",
       "    <tr>\n",
       "      <th>Date</th>\n",
       "      <th></th>\n",
       "      <th></th>\n",
       "      <th></th>\n",
       "      <th></th>\n",
       "      <th></th>\n",
       "      <th></th>\n",
       "    </tr>\n",
       "  </thead>\n",
       "  <tbody>\n",
       "    <tr>\n",
       "      <th>2022-07-11</th>\n",
       "      <td>59300.0</td>\n",
       "      <td>59600.0</td>\n",
       "      <td>58700.0</td>\n",
       "      <td>58800.0</td>\n",
       "      <td>58800.0</td>\n",
       "      <td>13042624</td>\n",
       "    </tr>\n",
       "    <tr>\n",
       "      <th>2022-07-12</th>\n",
       "      <td>58600.0</td>\n",
       "      <td>58700.0</td>\n",
       "      <td>58100.0</td>\n",
       "      <td>58100.0</td>\n",
       "      <td>58100.0</td>\n",
       "      <td>9336061</td>\n",
       "    </tr>\n",
       "    <tr>\n",
       "      <th>2022-07-13</th>\n",
       "      <td>58300.0</td>\n",
       "      <td>58600.0</td>\n",
       "      <td>58000.0</td>\n",
       "      <td>58000.0</td>\n",
       "      <td>58000.0</td>\n",
       "      <td>10841315</td>\n",
       "    </tr>\n",
       "    <tr>\n",
       "      <th>2022-07-14</th>\n",
       "      <td>57500.0</td>\n",
       "      <td>58200.0</td>\n",
       "      <td>57400.0</td>\n",
       "      <td>57500.0</td>\n",
       "      <td>57500.0</td>\n",
       "      <td>15067012</td>\n",
       "    </tr>\n",
       "    <tr>\n",
       "      <th>2022-07-15</th>\n",
       "      <td>58400.0</td>\n",
       "      <td>60000.0</td>\n",
       "      <td>58100.0</td>\n",
       "      <td>60000.0</td>\n",
       "      <td>60000.0</td>\n",
       "      <td>18685583</td>\n",
       "    </tr>\n",
       "  </tbody>\n",
       "</table>\n",
       "</div>"
      ],
      "text/plain": [
       "               Open     High      Low    Close  Adj Close    Volume\n",
       "Date                                                               \n",
       "2022-07-11  59300.0  59600.0  58700.0  58800.0    58800.0  13042624\n",
       "2022-07-12  58600.0  58700.0  58100.0  58100.0    58100.0   9336061\n",
       "2022-07-13  58300.0  58600.0  58000.0  58000.0    58000.0  10841315\n",
       "2022-07-14  57500.0  58200.0  57400.0  57500.0    57500.0  15067012\n",
       "2022-07-15  58400.0  60000.0  58100.0  60000.0    60000.0  18685583"
      ]
     },
     "execution_count": 23,
     "metadata": {},
     "output_type": "execute_result"
    }
   ],
   "source": [
    "sec.head()"
   ]
  },
  {
   "cell_type": "code",
   "execution_count": 25,
   "id": "38f2e7c4",
   "metadata": {},
   "outputs": [
    {
     "data": {
      "text/plain": [
       "[<matplotlib.lines.Line2D at 0x296838ffd30>]"
      ]
     },
     "execution_count": 25,
     "metadata": {},
     "output_type": "execute_result"
    },
    {
     "data": {
      "image/png": "[encoded data removed]",
      "text/plain": [
       "<Figure size 432x288 with 1 Axes>"
      ]
     },
     "metadata": {
      "needs_background": "light"
     },
     "output_type": "display_data"
    }
   ],
   "source": [
    "import matplotlib.pyplot as plt\n",
    "\n",
    "plt.plot(sec.index, sec.Close, 'b', label='Samsung Electronic')"
   ]
  },
  {
   "cell_type": "code",
   "execution_count": 28,
   "id": "a7af6586",
   "metadata": {},
   "outputs": [],
   "source": [
    "from pandas_datareader import data as pdr\n",
    "import yfinance as yf\n",
    "yf.pdr_override()"
   ]
  },
  {
   "cell_type": "code",
   "execution_count": 29,
   "id": "eea069ba",
   "metadata": {},
   "outputs": [
    {
     "name": "stdout",
     "output_type": "stream",
     "text": [
      "[*********************100%***********************]  1 of 1 completed\n"
     ]
    },
    {
     "data": {
      "text/html": [
       "<div>\n",
       "<style scoped>\n",
       "    .dataframe tbody tr th:only-of-type {\n",
       "        vertical-align: middle;\n",
       "    }\n",
       "\n",
       "    .dataframe tbody tr th {\n",
       "        vertical-align: top;\n",
       "    }\n",
       "\n",
       "    .dataframe thead th {\n",
       "        text-align: right;\n",
       "    }\n",
       "</style>\n",
       "<table border=\"1\" class=\"dataframe\">\n",
       "  <thead>\n",
       "    <tr style=\"text-align: right;\">\n",
       "      <th></th>\n",
       "      <th>Open</th>\n",
       "      <th>High</th>\n",
       "      <th>Low</th>\n",
       "      <th>Close</th>\n",
       "      <th>Adj Close</th>\n",
       "      <th>Volume</th>\n",
       "    </tr>\n",
       "    <tr>\n",
       "      <th>Date</th>\n",
       "      <th></th>\n",
       "      <th></th>\n",
       "      <th></th>\n",
       "      <th></th>\n",
       "      <th></th>\n",
       "      <th></th>\n",
       "    </tr>\n",
       "  </thead>\n",
       "  <tbody>\n",
       "    <tr>\n",
       "      <th>2022-07-05</th>\n",
       "      <td>68700.0</td>\n",
       "      <td>72500.0</td>\n",
       "      <td>68300.0</td>\n",
       "      <td>72000.0</td>\n",
       "      <td>72000.0</td>\n",
       "      <td>2125688</td>\n",
       "    </tr>\n",
       "    <tr>\n",
       "      <th>2022-07-06</th>\n",
       "      <td>71300.0</td>\n",
       "      <td>75000.0</td>\n",
       "      <td>71200.0</td>\n",
       "      <td>73500.0</td>\n",
       "      <td>73500.0</td>\n",
       "      <td>2724220</td>\n",
       "    </tr>\n",
       "    <tr>\n",
       "      <th>2022-07-07</th>\n",
       "      <td>74500.0</td>\n",
       "      <td>74900.0</td>\n",
       "      <td>72700.0</td>\n",
       "      <td>73000.0</td>\n",
       "      <td>73000.0</td>\n",
       "      <td>1603464</td>\n",
       "    </tr>\n",
       "    <tr>\n",
       "      <th>2022-07-08</th>\n",
       "      <td>73900.0</td>\n",
       "      <td>73900.0</td>\n",
       "      <td>71800.0</td>\n",
       "      <td>71800.0</td>\n",
       "      <td>71800.0</td>\n",
       "      <td>1418763</td>\n",
       "    </tr>\n",
       "    <tr>\n",
       "      <th>2022-07-11</th>\n",
       "      <td>71900.0</td>\n",
       "      <td>72800.0</td>\n",
       "      <td>71100.0</td>\n",
       "      <td>71300.0</td>\n",
       "      <td>71300.0</td>\n",
       "      <td>979002</td>\n",
       "    </tr>\n",
       "    <tr>\n",
       "      <th>2022-07-12</th>\n",
       "      <td>70700.0</td>\n",
       "      <td>71000.0</td>\n",
       "      <td>69400.0</td>\n",
       "      <td>70300.0</td>\n",
       "      <td>70300.0</td>\n",
       "      <td>1082539</td>\n",
       "    </tr>\n",
       "    <tr>\n",
       "      <th>2022-07-13</th>\n",
       "      <td>70100.0</td>\n",
       "      <td>72200.0</td>\n",
       "      <td>70100.0</td>\n",
       "      <td>71900.0</td>\n",
       "      <td>71900.0</td>\n",
       "      <td>1156844</td>\n",
       "    </tr>\n",
       "    <tr>\n",
       "      <th>2022-07-14</th>\n",
       "      <td>71000.0</td>\n",
       "      <td>73400.0</td>\n",
       "      <td>70400.0</td>\n",
       "      <td>72100.0</td>\n",
       "      <td>72100.0</td>\n",
       "      <td>1597400</td>\n",
       "    </tr>\n",
       "    <tr>\n",
       "      <th>2022-07-15</th>\n",
       "      <td>72100.0</td>\n",
       "      <td>72200.0</td>\n",
       "      <td>69400.0</td>\n",
       "      <td>70100.0</td>\n",
       "      <td>70100.0</td>\n",
       "      <td>1605289</td>\n",
       "    </tr>\n",
       "  </tbody>\n",
       "</table>\n",
       "</div>"
      ],
      "text/plain": [
       "               Open     High      Low    Close  Adj Close   Volume\n",
       "Date                                                              \n",
       "2022-07-05  68700.0  72500.0  68300.0  72000.0    72000.0  2125688\n",
       "2022-07-06  71300.0  75000.0  71200.0  73500.0    73500.0  2724220\n",
       "2022-07-07  74500.0  74900.0  72700.0  73000.0    73000.0  1603464\n",
       "2022-07-08  73900.0  73900.0  71800.0  71800.0    71800.0  1418763\n",
       "2022-07-11  71900.0  72800.0  71100.0  71300.0    71300.0   979002\n",
       "2022-07-12  70700.0  71000.0  69400.0  70300.0    70300.0  1082539\n",
       "2022-07-13  70100.0  72200.0  70100.0  71900.0    71900.0  1156844\n",
       "2022-07-14  71000.0  73400.0  70400.0  72100.0    72100.0  1597400\n",
       "2022-07-15  72100.0  72200.0  69400.0  70100.0    70100.0  1605289"
      ]
     },
     "execution_count": 29,
     "metadata": {},
     "output_type": "execute_result"
    }
   ],
   "source": [
    "from pandas_datareader import data as pdr\n",
    "import yfinance as yf\n",
    "yf.pdr_override()\n",
    "\n",
    "sec=pdr.get_data_yahoo('035720.KS', start='2022-07-05')\n",
    "\n",
    "sec.head(10)"
   ]
  },
  {
   "cell_type": "code",
   "execution_count": 30,
   "id": "e3460a4c",
   "metadata": {},
   "outputs": [
    {
     "data": {
      "image/png": "[encoded data removed]",
      "text/plain": [
       "<Figure size 432x288 with 1 Axes>"
      ]
     },
     "metadata": {
      "needs_background": "light"
     },
     "output_type": "display_data"
    }
   ],
   "source": [
    "plt.plot(sec.index, sec.Close, 'b', label='Samsung Electronic')\n",
    "plt.show()"
   ]
  },
  {
   "cell_type": "code",
   "execution_count": 31,
   "id": "7ab12714",
   "metadata": {},
   "outputs": [],
   "source": [
    "from pandas_datareader import data as pdr\n",
    "import yfinance as yf\n",
    "yf.pdr_override()"
   ]
  },
  {
   "cell_type": "code",
   "execution_count": 32,
   "id": "58c5eeb0",
   "metadata": {},
   "outputs": [
    {
     "data": {
      "text/plain": [
       "pandas.core.series.Series"
      ]
     },
     "execution_count": 32,
     "metadata": {},
     "output_type": "execute_result"
    }
   ],
   "source": [
    "type(sec['Close'])"
   ]
  },
  {
   "cell_type": "code",
   "execution_count": 33,
   "id": "5f053115",
   "metadata": {},
   "outputs": [
    {
     "data": {
      "text/plain": [
       "Date\n",
       "2022-07-05    72000.0\n",
       "2022-07-06    73500.0\n",
       "2022-07-07    73000.0\n",
       "2022-07-08    71800.0\n",
       "2022-07-11    71300.0\n",
       "2022-07-12    70300.0\n",
       "2022-07-13    71900.0\n",
       "2022-07-14    72100.0\n",
       "2022-07-15    70100.0\n",
       "Name: Close, dtype: float64"
      ]
     },
     "execution_count": 33,
     "metadata": {},
     "output_type": "execute_result"
    }
   ],
   "source": [
    "sec['Close']"
   ]
  },
  {
   "cell_type": "code",
   "execution_count": 34,
   "id": "fb7c3298",
   "metadata": {},
   "outputs": [
    {
     "data": {
      "text/html": [
       "<div>\n",
       "<style scoped>\n",
       "    .dataframe tbody tr th:only-of-type {\n",
       "        vertical-align: middle;\n",
       "    }\n",
       "\n",
       "    .dataframe tbody tr th {\n",
       "        vertical-align: top;\n",
       "    }\n",
       "\n",
       "    .dataframe thead th {\n",
       "        text-align: right;\n",
       "    }\n",
       "</style>\n",
       "<table border=\"1\" class=\"dataframe\">\n",
       "  <thead>\n",
       "    <tr style=\"text-align: right;\">\n",
       "      <th></th>\n",
       "      <th>Open</th>\n",
       "      <th>High</th>\n",
       "      <th>Low</th>\n",
       "      <th>Close</th>\n",
       "      <th>Adj Close</th>\n",
       "      <th>Volume</th>\n",
       "    </tr>\n",
       "    <tr>\n",
       "      <th>Date</th>\n",
       "      <th></th>\n",
       "      <th></th>\n",
       "      <th></th>\n",
       "      <th></th>\n",
       "      <th></th>\n",
       "      <th></th>\n",
       "    </tr>\n",
       "  </thead>\n",
       "  <tbody>\n",
       "    <tr>\n",
       "      <th>2022-07-05</th>\n",
       "      <td>68700.0</td>\n",
       "      <td>72500.0</td>\n",
       "      <td>68300.0</td>\n",
       "      <td>72000.0</td>\n",
       "      <td>72000.0</td>\n",
       "      <td>2125688</td>\n",
       "    </tr>\n",
       "    <tr>\n",
       "      <th>2022-07-06</th>\n",
       "      <td>71300.0</td>\n",
       "      <td>75000.0</td>\n",
       "      <td>71200.0</td>\n",
       "      <td>73500.0</td>\n",
       "      <td>73500.0</td>\n",
       "      <td>2724220</td>\n",
       "    </tr>\n",
       "    <tr>\n",
       "      <th>2022-07-07</th>\n",
       "      <td>74500.0</td>\n",
       "      <td>74900.0</td>\n",
       "      <td>72700.0</td>\n",
       "      <td>73000.0</td>\n",
       "      <td>73000.0</td>\n",
       "      <td>1603464</td>\n",
       "    </tr>\n",
       "    <tr>\n",
       "      <th>2022-07-08</th>\n",
       "      <td>73900.0</td>\n",
       "      <td>73900.0</td>\n",
       "      <td>71800.0</td>\n",
       "      <td>71800.0</td>\n",
       "      <td>71800.0</td>\n",
       "      <td>1418763</td>\n",
       "    </tr>\n",
       "    <tr>\n",
       "      <th>2022-07-11</th>\n",
       "      <td>71900.0</td>\n",
       "      <td>72800.0</td>\n",
       "      <td>71100.0</td>\n",
       "      <td>71300.0</td>\n",
       "      <td>71300.0</td>\n",
       "      <td>979002</td>\n",
       "    </tr>\n",
       "    <tr>\n",
       "      <th>2022-07-12</th>\n",
       "      <td>70700.0</td>\n",
       "      <td>71000.0</td>\n",
       "      <td>69400.0</td>\n",
       "      <td>70300.0</td>\n",
       "      <td>70300.0</td>\n",
       "      <td>1082539</td>\n",
       "    </tr>\n",
       "    <tr>\n",
       "      <th>2022-07-13</th>\n",
       "      <td>70100.0</td>\n",
       "      <td>72200.0</td>\n",
       "      <td>70100.0</td>\n",
       "      <td>71900.0</td>\n",
       "      <td>71900.0</td>\n",
       "      <td>1156844</td>\n",
       "    </tr>\n",
       "    <tr>\n",
       "      <th>2022-07-14</th>\n",
       "      <td>71000.0</td>\n",
       "      <td>73400.0</td>\n",
       "      <td>70400.0</td>\n",
       "      <td>72100.0</td>\n",
       "      <td>72100.0</td>\n",
       "      <td>1597400</td>\n",
       "    </tr>\n",
       "    <tr>\n",
       "      <th>2022-07-15</th>\n",
       "      <td>72100.0</td>\n",
       "      <td>72200.0</td>\n",
       "      <td>69400.0</td>\n",
       "      <td>70100.0</td>\n",
       "      <td>70100.0</td>\n",
       "      <td>1605289</td>\n",
       "    </tr>\n",
       "  </tbody>\n",
       "</table>\n",
       "</div>"
      ],
      "text/plain": [
       "               Open     High      Low    Close  Adj Close   Volume\n",
       "Date                                                              \n",
       "2022-07-05  68700.0  72500.0  68300.0  72000.0    72000.0  2125688\n",
       "2022-07-06  71300.0  75000.0  71200.0  73500.0    73500.0  2724220\n",
       "2022-07-07  74500.0  74900.0  72700.0  73000.0    73000.0  1603464\n",
       "2022-07-08  73900.0  73900.0  71800.0  71800.0    71800.0  1418763\n",
       "2022-07-11  71900.0  72800.0  71100.0  71300.0    71300.0   979002\n",
       "2022-07-12  70700.0  71000.0  69400.0  70300.0    70300.0  1082539\n",
       "2022-07-13  70100.0  72200.0  70100.0  71900.0    71900.0  1156844\n",
       "2022-07-14  71000.0  73400.0  70400.0  72100.0    72100.0  1597400\n",
       "2022-07-15  72100.0  72200.0  69400.0  70100.0    70100.0  1605289"
      ]
     },
     "execution_count": 34,
     "metadata": {},
     "output_type": "execute_result"
    }
   ],
   "source": [
    "sec.head(10)"
   ]
  },
  {
   "cell_type": "code",
   "execution_count": 35,
   "id": "2339368f",
   "metadata": {},
   "outputs": [
    {
     "data": {
      "text/plain": [
       "Date\n",
       "2022-07-05        NaN\n",
       "2022-07-06    72000.0\n",
       "2022-07-07    73500.0\n",
       "2022-07-08    73000.0\n",
       "2022-07-11    71800.0\n",
       "2022-07-12    71300.0\n",
       "2022-07-13    70300.0\n",
       "2022-07-14    71900.0\n",
       "2022-07-15    72100.0\n",
       "Name: Close, dtype: float64"
      ]
     },
     "execution_count": 35,
     "metadata": {},
     "output_type": "execute_result"
    }
   ],
   "source": [
    "sec['Close'].shift(1)"
   ]
  },
  {
   "cell_type": "code",
   "execution_count": 36,
   "id": "8ac38dc4",
   "metadata": {},
   "outputs": [],
   "source": [
    "sec_dpc=(sec['Close']/sec['Close'].shift(1)-1)*100"
   ]
  },
  {
   "cell_type": "code",
   "execution_count": 38,
   "id": "b4065253",
   "metadata": {},
   "outputs": [
    {
     "data": {
      "text/plain": [
       "Date\n",
       "2022-07-05         NaN\n",
       "2022-07-06    2.083333\n",
       "2022-07-07   -0.680272\n",
       "2022-07-08   -1.643836\n",
       "2022-07-11   -0.696379\n",
       "Name: Close, dtype: float64"
      ]
     },
     "execution_count": 38,
     "metadata": {},
     "output_type": "execute_result"
    }
   ],
   "source": [
    "sec_dpc.head()"
   ]
  },
  {
   "cell_type": "code",
   "execution_count": 39,
   "id": "78d1fc07",
   "metadata": {},
   "outputs": [],
   "source": [
    "from pandas_datareader import data as pdr\n",
    "import yfinance as yf\n",
    "yf.pdr_override()"
   ]
  },
  {
   "cell_type": "code",
   "execution_count": 40,
   "id": "1461ebb0",
   "metadata": {},
   "outputs": [
    {
     "name": "stdout",
     "output_type": "stream",
     "text": [
      "[*********************100%***********************]  1 of 1 completed\n"
     ]
    }
   ],
   "source": [
    "sec=pdr.get_data_yahoo('035720.KS', start='2022-07-10')"
   ]
  },
  {
   "cell_type": "code",
   "execution_count": 41,
   "id": "d0aa1537",
   "metadata": {},
   "outputs": [],
   "source": [
    "from pandas_datareader import data as pdr\n",
    "import yfinance as yf\n",
    "yf.pdr_override()"
   ]
  },
  {
   "cell_type": "code",
   "execution_count": 42,
   "id": "f5ebad1c",
   "metadata": {},
   "outputs": [],
   "source": [
    "from pandas_datareader import data as pdr\n",
    "import yfinance as yf\n",
    "yf.pdr_override()"
   ]
  },
  {
   "cell_type": "code",
   "execution_count": 43,
   "id": "7ab71b2a",
   "metadata": {},
   "outputs": [],
   "source": [
    "from pandas_datareader import data as pdr\n",
    "import yfinance as yf\n",
    "yf.pdr_override()"
   ]
  },
  {
   "cell_type": "code",
   "execution_count": 44,
   "id": "1ec0793f",
   "metadata": {},
   "outputs": [],
   "source": [
    "from pandas_datareader import data as pdr\n",
    "import yfinance as yf\n",
    "yf.pdr_override()"
   ]
  },
  {
   "cell_type": "code",
   "execution_count": 49,
   "id": "bdac520b",
   "metadata": {},
   "outputs": [
    {
     "name": "stdout",
     "output_type": "stream",
     "text": [
      "[*********************100%***********************]  1 of 1 completed\n",
      "[*********************100%***********************]  1 of 1 completed\n"
     ]
    }
   ],
   "source": [
    "sec=pdr.get_data_yahoo('005930.KS', start='2022-07-10')\n",
    "msft=pdr.get_data_yahoo('MSFT', start='2022-07-10')"
   ]
  },
  {
   "cell_type": "code",
   "execution_count": 50,
   "id": "eaa73191",
   "metadata": {},
   "outputs": [
    {
     "data": {
      "text/html": [
       "<div>\n",
       "<style scoped>\n",
       "    .dataframe tbody tr th:only-of-type {\n",
       "        vertical-align: middle;\n",
       "    }\n",
       "\n",
       "    .dataframe tbody tr th {\n",
       "        vertical-align: top;\n",
       "    }\n",
       "\n",
       "    .dataframe thead th {\n",
       "        text-align: right;\n",
       "    }\n",
       "</style>\n",
       "<table border=\"1\" class=\"dataframe\">\n",
       "  <thead>\n",
       "    <tr style=\"text-align: right;\">\n",
       "      <th></th>\n",
       "      <th>Open</th>\n",
       "      <th>High</th>\n",
       "      <th>Low</th>\n",
       "      <th>Close</th>\n",
       "      <th>Adj Close</th>\n",
       "      <th>Volume</th>\n",
       "    </tr>\n",
       "    <tr>\n",
       "      <th>Date</th>\n",
       "      <th></th>\n",
       "      <th></th>\n",
       "      <th></th>\n",
       "      <th></th>\n",
       "      <th></th>\n",
       "      <th></th>\n",
       "    </tr>\n",
       "  </thead>\n",
       "  <tbody>\n",
       "    <tr>\n",
       "      <th>2022-07-11</th>\n",
       "      <td>59300.0</td>\n",
       "      <td>59600.0</td>\n",
       "      <td>58700.0</td>\n",
       "      <td>58800.0</td>\n",
       "      <td>58800.0</td>\n",
       "      <td>13042624</td>\n",
       "    </tr>\n",
       "    <tr>\n",
       "      <th>2022-07-12</th>\n",
       "      <td>58600.0</td>\n",
       "      <td>58700.0</td>\n",
       "      <td>58100.0</td>\n",
       "      <td>58100.0</td>\n",
       "      <td>58100.0</td>\n",
       "      <td>9336061</td>\n",
       "    </tr>\n",
       "    <tr>\n",
       "      <th>2022-07-13</th>\n",
       "      <td>58300.0</td>\n",
       "      <td>58600.0</td>\n",
       "      <td>58000.0</td>\n",
       "      <td>58000.0</td>\n",
       "      <td>58000.0</td>\n",
       "      <td>10841315</td>\n",
       "    </tr>\n",
       "    <tr>\n",
       "      <th>2022-07-14</th>\n",
       "      <td>57500.0</td>\n",
       "      <td>58200.0</td>\n",
       "      <td>57400.0</td>\n",
       "      <td>57500.0</td>\n",
       "      <td>57500.0</td>\n",
       "      <td>15067012</td>\n",
       "    </tr>\n",
       "    <tr>\n",
       "      <th>2022-07-15</th>\n",
       "      <td>58400.0</td>\n",
       "      <td>60000.0</td>\n",
       "      <td>58100.0</td>\n",
       "      <td>60000.0</td>\n",
       "      <td>60000.0</td>\n",
       "      <td>18685583</td>\n",
       "    </tr>\n",
       "  </tbody>\n",
       "</table>\n",
       "</div>"
      ],
      "text/plain": [
       "               Open     High      Low    Close  Adj Close    Volume\n",
       "Date                                                               \n",
       "2022-07-11  59300.0  59600.0  58700.0  58800.0    58800.0  13042624\n",
       "2022-07-12  58600.0  58700.0  58100.0  58100.0    58100.0   9336061\n",
       "2022-07-13  58300.0  58600.0  58000.0  58000.0    58000.0  10841315\n",
       "2022-07-14  57500.0  58200.0  57400.0  57500.0    57500.0  15067012\n",
       "2022-07-15  58400.0  60000.0  58100.0  60000.0    60000.0  18685583"
      ]
     },
     "execution_count": 50,
     "metadata": {},
     "output_type": "execute_result"
    }
   ],
   "source": [
    "sec.head(10)"
   ]
  },
  {
   "cell_type": "code",
   "execution_count": 51,
   "id": "3bcb6a93",
   "metadata": {},
   "outputs": [
    {
     "data": {
      "text/html": [
       "<div>\n",
       "<style scoped>\n",
       "    .dataframe tbody tr th:only-of-type {\n",
       "        vertical-align: middle;\n",
       "    }\n",
       "\n",
       "    .dataframe tbody tr th {\n",
       "        vertical-align: top;\n",
       "    }\n",
       "\n",
       "    .dataframe thead th {\n",
       "        text-align: right;\n",
       "    }\n",
       "</style>\n",
       "<table border=\"1\" class=\"dataframe\">\n",
       "  <thead>\n",
       "    <tr style=\"text-align: right;\">\n",
       "      <th></th>\n",
       "      <th>Open</th>\n",
       "      <th>High</th>\n",
       "      <th>Low</th>\n",
       "      <th>Close</th>\n",
       "      <th>Adj Close</th>\n",
       "    </tr>\n",
       "    <tr>\n",
       "      <th>Date</th>\n",
       "      <th></th>\n",
       "      <th></th>\n",
       "      <th></th>\n",
       "      <th></th>\n",
       "      <th></th>\n",
       "    </tr>\n",
       "  </thead>\n",
       "  <tbody>\n",
       "    <tr>\n",
       "      <th>2022-07-11</th>\n",
       "      <td>265.649994</td>\n",
       "      <td>266.529999</td>\n",
       "      <td>262.179993</td>\n",
       "      <td>264.510010</td>\n",
       "      <td>264.510010</td>\n",
       "    </tr>\n",
       "    <tr>\n",
       "      <th>2022-07-12</th>\n",
       "      <td>265.880005</td>\n",
       "      <td>265.940002</td>\n",
       "      <td>252.039993</td>\n",
       "      <td>253.669998</td>\n",
       "      <td>253.669998</td>\n",
       "    </tr>\n",
       "    <tr>\n",
       "      <th>2022-07-13</th>\n",
       "      <td>250.190002</td>\n",
       "      <td>253.550003</td>\n",
       "      <td>248.110001</td>\n",
       "      <td>252.720001</td>\n",
       "      <td>252.720001</td>\n",
       "    </tr>\n",
       "    <tr>\n",
       "      <th>2022-07-14</th>\n",
       "      <td>250.570007</td>\n",
       "      <td>255.139999</td>\n",
       "      <td>245.940002</td>\n",
       "      <td>254.080002</td>\n",
       "      <td>254.080002</td>\n",
       "    </tr>\n",
       "    <tr>\n",
       "      <th>2022-07-15</th>\n",
       "      <td>255.720001</td>\n",
       "      <td>260.369995</td>\n",
       "      <td>254.770004</td>\n",
       "      <td>256.720001</td>\n",
       "      <td>256.720001</td>\n",
       "    </tr>\n",
       "  </tbody>\n",
       "</table>\n",
       "</div>"
      ],
      "text/plain": [
       "                  Open        High         Low       Close   Adj Close\n",
       "Date                                                                  \n",
       "2022-07-11  265.649994  266.529999  262.179993  264.510010  264.510010\n",
       "2022-07-12  265.880005  265.940002  252.039993  253.669998  253.669998\n",
       "2022-07-13  250.190002  253.550003  248.110001  252.720001  252.720001\n",
       "2022-07-14  250.570007  255.139999  245.940002  254.080002  254.080002\n",
       "2022-07-15  255.720001  260.369995  254.770004  256.720001  256.720001"
      ]
     },
     "execution_count": 51,
     "metadata": {},
     "output_type": "execute_result"
    }
   ],
   "source": [
    "tmp_msft=msft.drop(columns='Volume')\n",
    "tmp_msft.tail()"
   ]
  },
  {
   "cell_type": "code",
   "execution_count": 52,
   "id": "658e2582",
   "metadata": {},
   "outputs": [
    {
     "data": {
      "text/plain": [
       "DatetimeIndex(['2022-07-11', '2022-07-12', '2022-07-13', '2022-07-14',\n",
       "               '2022-07-15'],\n",
       "              dtype='datetime64[ns]', name='Date', freq=None)"
      ]
     },
     "execution_count": 52,
     "metadata": {},
     "output_type": "execute_result"
    }
   ],
   "source": [
    "sec.index"
   ]
  },
  {
   "cell_type": "code",
   "execution_count": 53,
   "id": "714f3ed6",
   "metadata": {},
   "outputs": [
    {
     "data": {
      "text/plain": [
       "Index(['Open', 'High', 'Low', 'Close', 'Adj Close', 'Volume'], dtype='object')"
      ]
     },
     "execution_count": 53,
     "metadata": {},
     "output_type": "execute_result"
    }
   ],
   "source": [
    "sec.columns"
   ]
  },
  {
   "cell_type": "code",
   "execution_count": 55,
   "id": "4a92a347",
   "metadata": {},
   "outputs": [],
   "source": [
    "from pandas_datareader import data as pdr\n",
    "import yfinance as yf\n",
    "yf.pdr_override()"
   ]
  },
  {
   "cell_type": "code",
   "execution_count": 60,
   "id": "44812091",
   "metadata": {},
   "outputs": [
    {
     "name": "stdout",
     "output_type": "stream",
     "text": [
      "[*********************100%***********************]  1 of 1 completed\n",
      "[*********************100%***********************]  1 of 1 completed\n"
     ]
    },
    {
     "data": {
      "image/png": "[encoded data removed]",
      "text/plain": [
       "<Figure size 432x288 with 1 Axes>"
      ]
     },
     "metadata": {
      "needs_background": "light"
     },
     "output_type": "display_data"
    }
   ],
   "source": [
    "sec=pdr.get_data_yahoo('005930.KS', start='2022-07-10')\n",
    "msft=pdr.get_data_yahoo('PSNY', start='2022-07-10')\n",
    "\n",
    "import matplotlib.pyplot as plt\n",
    "\n",
    "plt.plot(msft.index, msft.Close, 'r--')\n",
    "plt.show()"
   ]
  },
  {
   "cell_type": "code",
   "execution_count": 61,
   "id": "48744a71",
   "metadata": {},
   "outputs": [
    {
     "data": {
      "text/plain": [
       "Date\n",
       "2022-07-11     9.95\n",
       "2022-07-12     9.97\n",
       "2022-07-13    10.12\n",
       "2022-07-14    10.20\n",
       "2022-07-15    10.10\n",
       "Name: Close, dtype: float64"
      ]
     },
     "execution_count": 61,
     "metadata": {},
     "output_type": "execute_result"
    }
   ],
   "source": [
    "msft['Close']"
   ]
  },
  {
   "cell_type": "code",
   "execution_count": 62,
   "id": "e6376791",
   "metadata": {},
   "outputs": [
    {
     "data": {
      "text/plain": [
       "Date\n",
       "2022-07-11         NaN\n",
       "2022-07-12    0.201010\n",
       "2022-07-13    1.504510\n",
       "2022-07-14    0.790513\n",
       "2022-07-15   -0.980387\n",
       "Name: Close, dtype: float64"
      ]
     },
     "execution_count": 62,
     "metadata": {},
     "output_type": "execute_result"
    }
   ],
   "source": [
    "msft_dpc=(msft['Close']/msft['Close'].shift(1)-1)*100\n",
    "msft_dpc"
   ]
  },
  {
   "cell_type": "code",
   "execution_count": 64,
   "id": "444757dc",
   "metadata": {},
   "outputs": [
    {
     "data": {
      "text/plain": [
       "Date\n",
       "2022-07-11    0.000000\n",
       "2022-07-12    0.201010\n",
       "2022-07-13    1.504510\n",
       "2022-07-14    0.790513\n",
       "2022-07-15   -0.980387\n",
       "Name: Close, dtype: float64"
      ]
     },
     "execution_count": 64,
     "metadata": {},
     "output_type": "execute_result"
    }
   ],
   "source": [
    "msft_dpc.iloc[0]=0\n",
    "msft_dpc.head()"
   ]
  },
  {
   "cell_type": "code",
   "execution_count": 67,
   "id": "7eb57c87",
   "metadata": {},
   "outputs": [
    {
     "name": "stdout",
     "output_type": "stream",
     "text": [
      "[*********************100%***********************]  1 of 1 completed\n"
     ]
    },
    {
     "data": {
      "text/html": [
       "<div>\n",
       "<style scoped>\n",
       "    .dataframe tbody tr th:only-of-type {\n",
       "        vertical-align: middle;\n",
       "    }\n",
       "\n",
       "    .dataframe tbody tr th {\n",
       "        vertical-align: top;\n",
       "    }\n",
       "\n",
       "    .dataframe thead th {\n",
       "        text-align: right;\n",
       "    }\n",
       "</style>\n",
       "<table border=\"1\" class=\"dataframe\">\n",
       "  <thead>\n",
       "    <tr style=\"text-align: right;\">\n",
       "      <th></th>\n",
       "      <th>Open</th>\n",
       "      <th>High</th>\n",
       "      <th>Low</th>\n",
       "      <th>Close</th>\n",
       "      <th>Adj Close</th>\n",
       "      <th>Volume</th>\n",
       "    </tr>\n",
       "    <tr>\n",
       "      <th>Date</th>\n",
       "      <th></th>\n",
       "      <th></th>\n",
       "      <th></th>\n",
       "      <th></th>\n",
       "      <th></th>\n",
       "      <th></th>\n",
       "    </tr>\n",
       "  </thead>\n",
       "  <tbody>\n",
       "    <tr>\n",
       "      <th>2021-07-09</th>\n",
       "      <td>10.64</td>\n",
       "      <td>10.690</td>\n",
       "      <td>10.23</td>\n",
       "      <td>10.30</td>\n",
       "      <td>10.30</td>\n",
       "      <td>6771500</td>\n",
       "    </tr>\n",
       "    <tr>\n",
       "      <th>2021-07-12</th>\n",
       "      <td>10.39</td>\n",
       "      <td>10.390</td>\n",
       "      <td>10.23</td>\n",
       "      <td>10.26</td>\n",
       "      <td>10.26</td>\n",
       "      <td>3687000</td>\n",
       "    </tr>\n",
       "    <tr>\n",
       "      <th>2021-07-13</th>\n",
       "      <td>10.27</td>\n",
       "      <td>10.270</td>\n",
       "      <td>10.06</td>\n",
       "      <td>10.15</td>\n",
       "      <td>10.15</td>\n",
       "      <td>2357700</td>\n",
       "    </tr>\n",
       "    <tr>\n",
       "      <th>2021-07-14</th>\n",
       "      <td>10.12</td>\n",
       "      <td>10.160</td>\n",
       "      <td>9.99</td>\n",
       "      <td>10.04</td>\n",
       "      <td>10.04</td>\n",
       "      <td>1630700</td>\n",
       "    </tr>\n",
       "    <tr>\n",
       "      <th>2021-07-15</th>\n",
       "      <td>10.03</td>\n",
       "      <td>10.040</td>\n",
       "      <td>9.93</td>\n",
       "      <td>9.99</td>\n",
       "      <td>9.99</td>\n",
       "      <td>1291600</td>\n",
       "    </tr>\n",
       "    <tr>\n",
       "      <th>2021-07-16</th>\n",
       "      <td>10.04</td>\n",
       "      <td>10.046</td>\n",
       "      <td>9.97</td>\n",
       "      <td>10.01</td>\n",
       "      <td>10.01</td>\n",
       "      <td>739700</td>\n",
       "    </tr>\n",
       "    <tr>\n",
       "      <th>2021-07-19</th>\n",
       "      <td>9.95</td>\n",
       "      <td>10.000</td>\n",
       "      <td>9.89</td>\n",
       "      <td>9.94</td>\n",
       "      <td>9.94</td>\n",
       "      <td>856400</td>\n",
       "    </tr>\n",
       "    <tr>\n",
       "      <th>2021-07-20</th>\n",
       "      <td>9.98</td>\n",
       "      <td>10.000</td>\n",
       "      <td>9.90</td>\n",
       "      <td>9.93</td>\n",
       "      <td>9.93</td>\n",
       "      <td>868600</td>\n",
       "    </tr>\n",
       "    <tr>\n",
       "      <th>2021-07-21</th>\n",
       "      <td>9.97</td>\n",
       "      <td>10.000</td>\n",
       "      <td>9.91</td>\n",
       "      <td>9.95</td>\n",
       "      <td>9.95</td>\n",
       "      <td>798000</td>\n",
       "    </tr>\n",
       "    <tr>\n",
       "      <th>2021-07-22</th>\n",
       "      <td>9.98</td>\n",
       "      <td>10.000</td>\n",
       "      <td>9.93</td>\n",
       "      <td>9.99</td>\n",
       "      <td>9.99</td>\n",
       "      <td>897100</td>\n",
       "    </tr>\n",
       "  </tbody>\n",
       "</table>\n",
       "</div>"
      ],
      "text/plain": [
       "             Open    High    Low  Close  Adj Close   Volume\n",
       "Date                                                       \n",
       "2021-07-09  10.64  10.690  10.23  10.30      10.30  6771500\n",
       "2021-07-12  10.39  10.390  10.23  10.26      10.26  3687000\n",
       "2021-07-13  10.27  10.270  10.06  10.15      10.15  2357700\n",
       "2021-07-14  10.12  10.160   9.99  10.04      10.04  1630700\n",
       "2021-07-15  10.03  10.040   9.93   9.99       9.99  1291600\n",
       "2021-07-16  10.04  10.046   9.97  10.01      10.01   739700\n",
       "2021-07-19   9.95  10.000   9.89   9.94       9.94   856400\n",
       "2021-07-20   9.98  10.000   9.90   9.93       9.93   868600\n",
       "2021-07-21   9.97  10.000   9.91   9.95       9.95   798000\n",
       "2021-07-22   9.98  10.000   9.93   9.99       9.99   897100"
      ]
     },
     "execution_count": 67,
     "metadata": {},
     "output_type": "execute_result"
    }
   ],
   "source": [
    "from pandas_datareader import data as pdr\n",
    "import yfinance as yf\n",
    "yf.pdr_override()\n",
    "\n",
    "sec=pdr.get_data_yahoo('PSNY', start='2021-07-10')\n",
    "sec.head(10)"
   ]
  },
  {
   "cell_type": "code",
   "execution_count": 68,
   "id": "28cb6c11",
   "metadata": {},
   "outputs": [],
   "source": [
    "tmp_sec=sec.drop(columns='Close')"
   ]
  },
  {
   "cell_type": "code",
   "execution_count": 69,
   "id": "6630c961",
   "metadata": {},
   "outputs": [
    {
     "data": {
      "text/html": [
       "<div>\n",
       "<style scoped>\n",
       "    .dataframe tbody tr th:only-of-type {\n",
       "        vertical-align: middle;\n",
       "    }\n",
       "\n",
       "    .dataframe tbody tr th {\n",
       "        vertical-align: top;\n",
       "    }\n",
       "\n",
       "    .dataframe thead th {\n",
       "        text-align: right;\n",
       "    }\n",
       "</style>\n",
       "<table border=\"1\" class=\"dataframe\">\n",
       "  <thead>\n",
       "    <tr style=\"text-align: right;\">\n",
       "      <th></th>\n",
       "      <th>Open</th>\n",
       "      <th>High</th>\n",
       "      <th>Low</th>\n",
       "      <th>Adj Close</th>\n",
       "      <th>Volume</th>\n",
       "    </tr>\n",
       "    <tr>\n",
       "      <th>Date</th>\n",
       "      <th></th>\n",
       "      <th></th>\n",
       "      <th></th>\n",
       "      <th></th>\n",
       "      <th></th>\n",
       "    </tr>\n",
       "  </thead>\n",
       "  <tbody>\n",
       "    <tr>\n",
       "      <th>2022-07-11</th>\n",
       "      <td>10.04</td>\n",
       "      <td>10.35</td>\n",
       "      <td>9.93</td>\n",
       "      <td>9.95</td>\n",
       "      <td>2039700</td>\n",
       "    </tr>\n",
       "    <tr>\n",
       "      <th>2022-07-12</th>\n",
       "      <td>9.97</td>\n",
       "      <td>10.15</td>\n",
       "      <td>9.80</td>\n",
       "      <td>9.97</td>\n",
       "      <td>1779400</td>\n",
       "    </tr>\n",
       "    <tr>\n",
       "      <th>2022-07-13</th>\n",
       "      <td>10.16</td>\n",
       "      <td>10.70</td>\n",
       "      <td>9.89</td>\n",
       "      <td>10.12</td>\n",
       "      <td>5526600</td>\n",
       "    </tr>\n",
       "    <tr>\n",
       "      <th>2022-07-14</th>\n",
       "      <td>10.02</td>\n",
       "      <td>10.25</td>\n",
       "      <td>9.95</td>\n",
       "      <td>10.20</td>\n",
       "      <td>1802700</td>\n",
       "    </tr>\n",
       "    <tr>\n",
       "      <th>2022-07-15</th>\n",
       "      <td>10.29</td>\n",
       "      <td>10.30</td>\n",
       "      <td>9.95</td>\n",
       "      <td>10.10</td>\n",
       "      <td>1834000</td>\n",
       "    </tr>\n",
       "  </tbody>\n",
       "</table>\n",
       "</div>"
      ],
      "text/plain": [
       "             Open   High   Low  Adj Close   Volume\n",
       "Date                                              \n",
       "2022-07-11  10.04  10.35  9.93       9.95  2039700\n",
       "2022-07-12   9.97  10.15  9.80       9.97  1779400\n",
       "2022-07-13  10.16  10.70  9.89      10.12  5526600\n",
       "2022-07-14  10.02  10.25  9.95      10.20  1802700\n",
       "2022-07-15  10.29  10.30  9.95      10.10  1834000"
      ]
     },
     "execution_count": 69,
     "metadata": {},
     "output_type": "execute_result"
    }
   ],
   "source": [
    "tmp_sec.tail()"
   ]
  },
  {
   "cell_type": "code",
   "execution_count": 70,
   "id": "34996e54",
   "metadata": {},
   "outputs": [
    {
     "data": {
      "text/plain": [
       "DatetimeIndex(['2021-07-09', '2021-07-12', '2021-07-13', '2021-07-14',\n",
       "               '2021-07-15', '2021-07-16', '2021-07-19', '2021-07-20',\n",
       "               '2021-07-21', '2021-07-22',\n",
       "               ...\n",
       "               '2022-07-01', '2022-07-05', '2022-07-06', '2022-07-07',\n",
       "               '2022-07-08', '2022-07-11', '2022-07-12', '2022-07-13',\n",
       "               '2022-07-14', '2022-07-15'],\n",
       "              dtype='datetime64[ns]', name='Date', length=257, freq=None)"
      ]
     },
     "execution_count": 70,
     "metadata": {},
     "output_type": "execute_result"
    }
   ],
   "source": [
    "sec.index"
   ]
  },
  {
   "cell_type": "code",
   "execution_count": 71,
   "id": "629bb3d3",
   "metadata": {},
   "outputs": [
    {
     "data": {
      "text/plain": [
       "Index(['Open', 'High', 'Low', 'Close', 'Adj Close', 'Volume'], dtype='object')"
      ]
     },
     "execution_count": 71,
     "metadata": {},
     "output_type": "execute_result"
    }
   ],
   "source": [
    "sec.columns"
   ]
  },
  {
   "cell_type": "code",
   "execution_count": 72,
   "id": "c77fb3e3",
   "metadata": {},
   "outputs": [],
   "source": [
    "from pandas_datareader import data as pdr\n",
    "import yfinance as yf\n",
    "yf.pdr_override()"
   ]
  },
  {
   "cell_type": "code",
   "execution_count": 73,
   "id": "83426abd",
   "metadata": {},
   "outputs": [
    {
     "name": "stdout",
     "output_type": "stream",
     "text": [
      "[*********************100%***********************]  1 of 1 completed\n"
     ]
    }
   ],
   "source": [
    "sec=pdr.get_data_yahoo('PSNY', start='2022-07-10')"
   ]
  },
  {
   "cell_type": "code",
   "execution_count": 74,
   "id": "52dd315e",
   "metadata": {},
   "outputs": [],
   "source": [
    "import matplotlib.pyplot as plt"
   ]
  },
  {
   "cell_type": "code",
   "execution_count": 75,
   "id": "3e21ddb6",
   "metadata": {},
   "outputs": [
    {
     "data": {
      "image/png": "[encoded data removed]",
      "text/plain": [
       "<Figure size 432x288 with 1 Axes>"
      ]
     },
     "metadata": {
      "needs_background": "light"
     },
     "output_type": "display_data"
    }
   ],
   "source": [
    "plt.plot(sec.index, sec.Close, 'r--')\n",
    "plt.show()"
   ]
  },
  {
   "cell_type": "code",
   "execution_count": 76,
   "id": "8e45d2bb",
   "metadata": {},
   "outputs": [],
   "source": [
    "from pandas_datareader import data as pdr\n",
    "import yfinance as yf\n",
    "yf.pdr_override()"
   ]
  },
  {
   "cell_type": "code",
   "execution_count": 77,
   "id": "fc7849eb",
   "metadata": {},
   "outputs": [],
   "source": [
    "sec_dpc=(sec['Close']/sec['Close'].shift(1)-1)*100"
   ]
  },
  {
   "cell_type": "code",
   "execution_count": 78,
   "id": "20cb0f5a",
   "metadata": {},
   "outputs": [
    {
     "data": {
      "text/plain": [
       "Date\n",
       "2022-07-11         NaN\n",
       "2022-07-12    0.201010\n",
       "2022-07-13    1.504510\n",
       "2022-07-14    0.790513\n",
       "2022-07-15   -0.980387\n",
       "Name: Close, dtype: float64"
      ]
     },
     "execution_count": 78,
     "metadata": {},
     "output_type": "execute_result"
    }
   ],
   "source": [
    "sec_dpc"
   ]
  },
  {
   "cell_type": "code",
   "execution_count": 79,
   "id": "2a5bef4b",
   "metadata": {},
   "outputs": [],
   "source": [
    "sec_dpc.iloc[0]=0"
   ]
  },
  {
   "cell_type": "code",
   "execution_count": 81,
   "id": "afbe7dbe",
   "metadata": {},
   "outputs": [
    {
     "data": {
      "image/png": "[encoded data removed]",
      "text/plain": [
       "<Figure size 432x288 with 1 Axes>"
      ]
     },
     "metadata": {
      "needs_background": "light"
     },
     "output_type": "display_data"
    }
   ],
   "source": [
    "import matplotlib.pyplot as plt\n",
    "sec_dpc=(sec['Close']/sec['Close'].shift(1)-1)*100\n",
    "sec_dpc.iloc[0]=0\n",
    "plt.hist(sec_dpc, bins=18)\n",
    "plt.grid(True)\n",
    "plt.show()"
   ]
  },
  {
   "cell_type": "code",
   "execution_count": 82,
   "id": "99f5939b",
   "metadata": {},
   "outputs": [
    {
     "data": {
      "text/plain": [
       "count    5.000000\n",
       "mean     0.303129\n",
       "std      0.926092\n",
       "min     -0.980387\n",
       "25%      0.000000\n",
       "50%      0.201010\n",
       "75%      0.790513\n",
       "max      1.504510\n",
       "Name: Close, dtype: float64"
      ]
     },
     "execution_count": 82,
     "metadata": {},
     "output_type": "execute_result"
    }
   ],
   "source": [
    "sec_dpc.describe()"
   ]
  },
  {
   "cell_type": "code",
   "execution_count": 86,
   "id": "a6bb6a15",
   "metadata": {},
   "outputs": [],
   "source": [
    "sec_dpc_cp=((100+sec_dpc)/100).cumprod()*100-100"
   ]
  },
  {
   "cell_type": "code",
   "execution_count": 87,
   "id": "0c72b673",
   "metadata": {},
   "outputs": [],
   "source": [
    "from pandas_datareader import data as pdr\n",
    "import yfinance as yf\n",
    "yf.pdr_override()"
   ]
  },
  {
   "cell_type": "code",
   "execution_count": 89,
   "id": "29de2212",
   "metadata": {},
   "outputs": [
    {
     "name": "stdout",
     "output_type": "stream",
     "text": [
      "[*********************100%***********************]  1 of 1 completed\n"
     ]
    }
   ],
   "source": [
    "sec=pdr.get_data_yahoo('005930.KS', start='2021-07-10')\n",
    "sec_dpc=(sec['Close']/sec['Close'].shift(1)-1)*100\n",
    "sec_dpc.iloc[0]=0\n",
    "sec_dpc_cp=((100+sec_dpc)/100).cumprod()*100-100"
   ]
  },
  {
   "cell_type": "code",
   "execution_count": 90,
   "id": "7d830773",
   "metadata": {},
   "outputs": [
    {
     "name": "stdout",
     "output_type": "stream",
     "text": [
      "[*********************100%***********************]  1 of 1 completed\n"
     ]
    }
   ],
   "source": [
    "msft=pdr.get_data_yahoo('MSFT', start='2021-07-10')\n",
    "msft_dpc=(msft['Close']/msft['Close'].shift(1)-1)*100\n",
    "msft_dpc.iloc[0]=0\n",
    "msft_dpc_cp=((100+msft_dpc)/100).cumprod()*100-100"
   ]
  },
  {
   "cell_type": "code",
   "execution_count": 92,
   "id": "fd59efed",
   "metadata": {},
   "outputs": [
    {
     "data": {
      "image/png": "[encoded data removed]",
      "text/plain": [
       "<Figure size 432x288 with 1 Axes>"
      ]
     },
     "metadata": {
      "needs_background": "light"
     },
     "output_type": "display_data"
    }
   ],
   "source": [
    "import matplotlib.pyplot as plt\n",
    "plt.plot(sec.index, sec_dpc_cp, 'b')\n",
    "plt.plot(msft.index, msft_dpc_cp, 'r')\n",
    "plt.grid(True)\n",
    "plt.show()"
   ]
  },
  {
   "cell_type": "code",
   "execution_count": 93,
   "id": "93ae7a88",
   "metadata": {},
   "outputs": [],
   "source": [
    "from pandas_datareader import data as pdr\n",
    "import yfinance as yf\n",
    "yf.pdr_override()"
   ]
  },
  {
   "cell_type": "code",
   "execution_count": 94,
   "id": "926bc07a",
   "metadata": {},
   "outputs": [
    {
     "name": "stdout",
     "output_type": "stream",
     "text": [
      "[*********************100%***********************]  1 of 1 completed\n",
      "[*********************100%***********************]  1 of 1 completed\n"
     ]
    }
   ],
   "source": [
    "sec=pdr.get_data_yahoo('005930.KS', start='2021-07-16')\n",
    "msft=pdr.get_data_yahoo('MSFT', start='2021-07-16')"
   ]
  },
  {
   "cell_type": "code",
   "execution_count": 95,
   "id": "215d09be",
   "metadata": {},
   "outputs": [
    {
     "data": {
      "text/html": [
       "<div>\n",
       "<style scoped>\n",
       "    .dataframe tbody tr th:only-of-type {\n",
       "        vertical-align: middle;\n",
       "    }\n",
       "\n",
       "    .dataframe tbody tr th {\n",
       "        vertical-align: top;\n",
       "    }\n",
       "\n",
       "    .dataframe thead th {\n",
       "        text-align: right;\n",
       "    }\n",
       "</style>\n",
       "<table border=\"1\" class=\"dataframe\">\n",
       "  <thead>\n",
       "    <tr style=\"text-align: right;\">\n",
       "      <th></th>\n",
       "      <th>Open</th>\n",
       "      <th>High</th>\n",
       "      <th>Low</th>\n",
       "      <th>Close</th>\n",
       "      <th>Adj Close</th>\n",
       "      <th>Volume</th>\n",
       "    </tr>\n",
       "    <tr>\n",
       "      <th>Date</th>\n",
       "      <th></th>\n",
       "      <th></th>\n",
       "      <th></th>\n",
       "      <th></th>\n",
       "      <th></th>\n",
       "      <th></th>\n",
       "    </tr>\n",
       "  </thead>\n",
       "  <tbody>\n",
       "    <tr>\n",
       "      <th>2022-07-01</th>\n",
       "      <td>256.390015</td>\n",
       "      <td>259.769989</td>\n",
       "      <td>254.610001</td>\n",
       "      <td>259.579987</td>\n",
       "      <td>259.579987</td>\n",
       "      <td>22825200</td>\n",
       "    </tr>\n",
       "    <tr>\n",
       "      <th>2022-07-05</th>\n",
       "      <td>256.160004</td>\n",
       "      <td>262.980011</td>\n",
       "      <td>254.740005</td>\n",
       "      <td>262.850006</td>\n",
       "      <td>262.850006</td>\n",
       "      <td>22941000</td>\n",
       "    </tr>\n",
       "    <tr>\n",
       "      <th>2022-07-06</th>\n",
       "      <td>263.750000</td>\n",
       "      <td>267.989990</td>\n",
       "      <td>262.399994</td>\n",
       "      <td>266.209991</td>\n",
       "      <td>266.209991</td>\n",
       "      <td>23824400</td>\n",
       "    </tr>\n",
       "    <tr>\n",
       "      <th>2022-07-07</th>\n",
       "      <td>265.119995</td>\n",
       "      <td>269.059998</td>\n",
       "      <td>265.019989</td>\n",
       "      <td>268.399994</td>\n",
       "      <td>268.399994</td>\n",
       "      <td>20859900</td>\n",
       "    </tr>\n",
       "    <tr>\n",
       "      <th>2022-07-08</th>\n",
       "      <td>264.790009</td>\n",
       "      <td>268.100006</td>\n",
       "      <td>263.290009</td>\n",
       "      <td>267.660004</td>\n",
       "      <td>267.660004</td>\n",
       "      <td>19648100</td>\n",
       "    </tr>\n",
       "    <tr>\n",
       "      <th>2022-07-11</th>\n",
       "      <td>265.649994</td>\n",
       "      <td>266.529999</td>\n",
       "      <td>262.179993</td>\n",
       "      <td>264.510010</td>\n",
       "      <td>264.510010</td>\n",
       "      <td>19455200</td>\n",
       "    </tr>\n",
       "    <tr>\n",
       "      <th>2022-07-12</th>\n",
       "      <td>265.880005</td>\n",
       "      <td>265.940002</td>\n",
       "      <td>252.039993</td>\n",
       "      <td>253.669998</td>\n",
       "      <td>253.669998</td>\n",
       "      <td>35868500</td>\n",
       "    </tr>\n",
       "    <tr>\n",
       "      <th>2022-07-13</th>\n",
       "      <td>250.190002</td>\n",
       "      <td>253.550003</td>\n",
       "      <td>248.110001</td>\n",
       "      <td>252.720001</td>\n",
       "      <td>252.720001</td>\n",
       "      <td>29497400</td>\n",
       "    </tr>\n",
       "    <tr>\n",
       "      <th>2022-07-14</th>\n",
       "      <td>250.570007</td>\n",
       "      <td>255.139999</td>\n",
       "      <td>245.940002</td>\n",
       "      <td>254.080002</td>\n",
       "      <td>254.080002</td>\n",
       "      <td>25102800</td>\n",
       "    </tr>\n",
       "    <tr>\n",
       "      <th>2022-07-15</th>\n",
       "      <td>255.720001</td>\n",
       "      <td>260.369995</td>\n",
       "      <td>254.770004</td>\n",
       "      <td>256.720001</td>\n",
       "      <td>256.720001</td>\n",
       "      <td>29572500</td>\n",
       "    </tr>\n",
       "  </tbody>\n",
       "</table>\n",
       "</div>"
      ],
      "text/plain": [
       "                  Open        High         Low       Close   Adj Close  \\\n",
       "Date                                                                     \n",
       "2022-07-01  256.390015  259.769989  254.610001  259.579987  259.579987   \n",
       "2022-07-05  256.160004  262.980011  254.740005  262.850006  262.850006   \n",
       "2022-07-06  263.750000  267.989990  262.399994  266.209991  266.209991   \n",
       "2022-07-07  265.119995  269.059998  265.019989  268.399994  268.399994   \n",
       "2022-07-08  264.790009  268.100006  263.290009  267.660004  267.660004   \n",
       "2022-07-11  265.649994  266.529999  262.179993  264.510010  264.510010   \n",
       "2022-07-12  265.880005  265.940002  252.039993  253.669998  253.669998   \n",
       "2022-07-13  250.190002  253.550003  248.110001  252.720001  252.720001   \n",
       "2022-07-14  250.570007  255.139999  245.940002  254.080002  254.080002   \n",
       "2022-07-15  255.720001  260.369995  254.770004  256.720001  256.720001   \n",
       "\n",
       "              Volume  \n",
       "Date                  \n",
       "2022-07-01  22825200  \n",
       "2022-07-05  22941000  \n",
       "2022-07-06  23824400  \n",
       "2022-07-07  20859900  \n",
       "2022-07-08  19648100  \n",
       "2022-07-11  19455200  \n",
       "2022-07-12  35868500  \n",
       "2022-07-13  29497400  \n",
       "2022-07-14  25102800  \n",
       "2022-07-15  29572500  "
      ]
     },
     "execution_count": 95,
     "metadata": {},
     "output_type": "execute_result"
    }
   ],
   "source": [
    "sec.tail(10)\n",
    "msft.tail(10)"
   ]
  },
  {
   "cell_type": "code",
   "execution_count": 96,
   "id": "d3f92230",
   "metadata": {},
   "outputs": [
    {
     "data": {
      "image/png": "[encoded data removed]",
      "text/plain": [
       "<Figure size 432x288 with 1 Axes>"
      ]
     },
     "metadata": {
      "needs_background": "light"
     },
     "output_type": "display_data"
    }
   ],
   "source": [
    "import matplotlib.pyplot as plt\n",
    "\n",
    "plt.plot(sec.index, sec.Close, 'b')\n",
    "plt.plot(msft.index, msft.Close, 'r--')\n",
    "plt.show()"
   ]
  },
  {
   "cell_type": "code",
   "execution_count": 97,
   "id": "1bc0464a",
   "metadata": {},
   "outputs": [],
   "source": [
    "sec_dpc=(sec['Close']/sec['Close']-1)*100\n",
    "msft_dpc=(msft['Close']/msft['Close']-1)*100"
   ]
  },
  {
   "cell_type": "code",
   "execution_count": 98,
   "id": "a72ff191",
   "metadata": {},
   "outputs": [],
   "source": [
    "sec_dpc.iloc[0]=0\n",
    "msft_dpc.iloc[0]=0"
   ]
  },
  {
   "cell_type": "code",
   "execution_count": 99,
   "id": "618e7667",
   "metadata": {},
   "outputs": [
    {
     "data": {
      "image/png": "[encoded data removed]",
      "text/plain": [
       "<Figure size 432x288 with 1 Axes>"
      ]
     },
     "metadata": {
      "needs_background": "light"
     },
     "output_type": "display_data"
    }
   ],
   "source": [
    "import matplotlib.pyplot as plt\n",
    "plt.hist(sec_dpc, bins=18)\n",
    "plt.grid(True)\n",
    "plt.show()"
   ]
  },
  {
   "cell_type": "code",
   "execution_count": 100,
   "id": "1dc98924",
   "metadata": {},
   "outputs": [
    {
     "data": {
      "text/plain": [
       "Date\n",
       "2021-07-16    0.0\n",
       "2021-07-19    0.0\n",
       "2021-07-20    0.0\n",
       "2021-07-21    0.0\n",
       "2021-07-22    0.0\n",
       "             ... \n",
       "2022-07-11    0.0\n",
       "2022-07-12    0.0\n",
       "2022-07-13    0.0\n",
       "2022-07-14    0.0\n",
       "2022-07-15    0.0\n",
       "Name: Close, Length: 244, dtype: float64"
      ]
     },
     "execution_count": 100,
     "metadata": {},
     "output_type": "execute_result"
    }
   ],
   "source": [
    "sec_dpc_cp=((100+sec_dpc)/100).cumprod()*100-100\n",
    "sec_dpc_cp"
   ]
  },
  {
   "cell_type": "code",
   "execution_count": 102,
   "id": "ce489e9a",
   "metadata": {},
   "outputs": [
    {
     "name": "stdout",
     "output_type": "stream",
     "text": [
      "[*********************100%***********************]  1 of 1 completed\n",
      "[*********************100%***********************]  1 of 1 completed\n"
     ]
    }
   ],
   "source": [
    "from pandas_datareader import data as pdr\n",
    "import yfinance as yf\n",
    "yf.pdr_override()\n",
    "\n",
    "sec=pdr.get_data_yahoo('005930.KS', start='2021-07-16')\n",
    "msft=pdr.get_data_yahoo('MSFT', start='2021-07-16')\n",
    "\n",
    "sec_dpc=(sec['Close']/sec['Close'].shift(1)-1)*100\n",
    "sec_dpc.iloc[0]=0\n",
    "sec_dpc_cp=((100+sec_dpc)/100).cumprod()*100-100\n",
    "\n",
    "msft_dpc=(msft['Close']/msft['Close'].shift(1)-1)*100\n",
    "msft_dpc.iloc[0]=0\n",
    "msft_dpc_cp=((100+msft_dpc)/100).cumprod()*100-100"
   ]
  },
  {
   "cell_type": "code",
   "execution_count": 103,
   "id": "c6f6776f",
   "metadata": {},
   "outputs": [
    {
     "data": {
      "text/plain": [
       "[<matplotlib.lines.Line2D at 0x29683cf7880>]"
      ]
     },
     "execution_count": 103,
     "metadata": {},
     "output_type": "execute_result"
    },
    {
     "data": {
      "image/png": "[encoded data removed]",
      "text/plain": [
       "<Figure size 432x288 with 1 Axes>"
      ]
     },
     "metadata": {
      "needs_background": "light"
     },
     "output_type": "display_data"
    }
   ],
   "source": [
    "import matplotlib.pyplot as plt\n",
    "\n",
    "plt.plot(sec.index, sec_dpc_cp, 'b')\n",
    "plt.plot(msft.index, msft_dpc_cp, 'r--')"
   ]
  },
  {
   "cell_type": "code",
   "execution_count": 105,
   "id": "acc0bc88",
   "metadata": {},
   "outputs": [
    {
     "name": "stdout",
     "output_type": "stream",
     "text": [
      "[*********************100%***********************]  1 of 1 completed\n"
     ]
    },
    {
     "data": {
      "text/html": [
       "<div>\n",
       "<style scoped>\n",
       "    .dataframe tbody tr th:only-of-type {\n",
       "        vertical-align: middle;\n",
       "    }\n",
       "\n",
       "    .dataframe tbody tr th {\n",
       "        vertical-align: top;\n",
       "    }\n",
       "\n",
       "    .dataframe thead th {\n",
       "        text-align: right;\n",
       "    }\n",
       "</style>\n",
       "<table border=\"1\" class=\"dataframe\">\n",
       "  <thead>\n",
       "    <tr style=\"text-align: right;\">\n",
       "      <th></th>\n",
       "      <th>Open</th>\n",
       "      <th>High</th>\n",
       "      <th>Low</th>\n",
       "      <th>Close</th>\n",
       "      <th>Adj Close</th>\n",
       "      <th>Volume</th>\n",
       "    </tr>\n",
       "    <tr>\n",
       "      <th>Date</th>\n",
       "      <th></th>\n",
       "      <th></th>\n",
       "      <th></th>\n",
       "      <th></th>\n",
       "      <th></th>\n",
       "      <th></th>\n",
       "    </tr>\n",
       "  </thead>\n",
       "  <tbody>\n",
       "    <tr>\n",
       "      <th>2021-07-12</th>\n",
       "      <td>79900.0</td>\n",
       "      <td>80000.0</td>\n",
       "      <td>79500.0</td>\n",
       "      <td>79700.0</td>\n",
       "      <td>78560.226562</td>\n",
       "      <td>9768108</td>\n",
       "    </tr>\n",
       "    <tr>\n",
       "      <th>2021-07-13</th>\n",
       "      <td>80000.0</td>\n",
       "      <td>80200.0</td>\n",
       "      <td>79800.0</td>\n",
       "      <td>79800.0</td>\n",
       "      <td>78658.796875</td>\n",
       "      <td>9863450</td>\n",
       "    </tr>\n",
       "    <tr>\n",
       "      <th>2021-07-14</th>\n",
       "      <td>79400.0</td>\n",
       "      <td>79600.0</td>\n",
       "      <td>79100.0</td>\n",
       "      <td>79500.0</td>\n",
       "      <td>78363.085938</td>\n",
       "      <td>11575636</td>\n",
       "    </tr>\n",
       "    <tr>\n",
       "      <th>2021-07-15</th>\n",
       "      <td>79800.0</td>\n",
       "      <td>80600.0</td>\n",
       "      <td>79500.0</td>\n",
       "      <td>80600.0</td>\n",
       "      <td>79447.351562</td>\n",
       "      <td>13766279</td>\n",
       "    </tr>\n",
       "    <tr>\n",
       "      <th>2021-07-16</th>\n",
       "      <td>80100.0</td>\n",
       "      <td>80100.0</td>\n",
       "      <td>79500.0</td>\n",
       "      <td>79800.0</td>\n",
       "      <td>78658.796875</td>\n",
       "      <td>10859399</td>\n",
       "    </tr>\n",
       "    <tr>\n",
       "      <th>2021-07-19</th>\n",
       "      <td>79100.0</td>\n",
       "      <td>79200.0</td>\n",
       "      <td>78800.0</td>\n",
       "      <td>79000.0</td>\n",
       "      <td>77870.242188</td>\n",
       "      <td>13155414</td>\n",
       "    </tr>\n",
       "    <tr>\n",
       "      <th>2021-07-20</th>\n",
       "      <td>78500.0</td>\n",
       "      <td>79000.0</td>\n",
       "      <td>78400.0</td>\n",
       "      <td>79000.0</td>\n",
       "      <td>77870.242188</td>\n",
       "      <td>12456646</td>\n",
       "    </tr>\n",
       "    <tr>\n",
       "      <th>2021-07-21</th>\n",
       "      <td>79000.0</td>\n",
       "      <td>79100.0</td>\n",
       "      <td>78500.0</td>\n",
       "      <td>78500.0</td>\n",
       "      <td>77377.390625</td>\n",
       "      <td>12355296</td>\n",
       "    </tr>\n",
       "    <tr>\n",
       "      <th>2021-07-22</th>\n",
       "      <td>79000.0</td>\n",
       "      <td>79800.0</td>\n",
       "      <td>78900.0</td>\n",
       "      <td>79700.0</td>\n",
       "      <td>78560.226562</td>\n",
       "      <td>12618790</td>\n",
       "    </tr>\n",
       "    <tr>\n",
       "      <th>2021-07-23</th>\n",
       "      <td>79700.0</td>\n",
       "      <td>79900.0</td>\n",
       "      <td>79200.0</td>\n",
       "      <td>79300.0</td>\n",
       "      <td>78165.945312</td>\n",
       "      <td>9098910</td>\n",
       "    </tr>\n",
       "  </tbody>\n",
       "</table>\n",
       "</div>"
      ],
      "text/plain": [
       "               Open     High      Low    Close     Adj Close    Volume\n",
       "Date                                                                  \n",
       "2021-07-12  79900.0  80000.0  79500.0  79700.0  78560.226562   9768108\n",
       "2021-07-13  80000.0  80200.0  79800.0  79800.0  78658.796875   9863450\n",
       "2021-07-14  79400.0  79600.0  79100.0  79500.0  78363.085938  11575636\n",
       "2021-07-15  79800.0  80600.0  79500.0  80600.0  79447.351562  13766279\n",
       "2021-07-16  80100.0  80100.0  79500.0  79800.0  78658.796875  10859399\n",
       "2021-07-19  79100.0  79200.0  78800.0  79000.0  77870.242188  13155414\n",
       "2021-07-20  78500.0  79000.0  78400.0  79000.0  77870.242188  12456646\n",
       "2021-07-21  79000.0  79100.0  78500.0  78500.0  77377.390625  12355296\n",
       "2021-07-22  79000.0  79800.0  78900.0  79700.0  78560.226562  12618790\n",
       "2021-07-23  79700.0  79900.0  79200.0  79300.0  78165.945312   9098910"
      ]
     },
     "execution_count": 105,
     "metadata": {},
     "output_type": "execute_result"
    }
   ],
   "source": [
    "from pandas_datareader import data as pdr\n",
    "import yfinance as yf\n",
    "yf.pdr_override()\n",
    "\n",
    "sec=pdr.get_data_yahoo('005930.KS', start='2021-07-10')\n",
    "sec.head(10)"
   ]
  },
  {
   "cell_type": "code",
   "execution_count": 106,
   "id": "4b3be1bb",
   "metadata": {},
   "outputs": [],
   "source": [
    "sec_dpc=(sec['Close']/sec['Close'].shift(1)-1)*100"
   ]
  },
  {
   "cell_type": "code",
   "execution_count": 107,
   "id": "44399c26",
   "metadata": {},
   "outputs": [],
   "source": [
    "sec_dpc.iloc[0]=0"
   ]
  },
  {
   "cell_type": "code",
   "execution_count": 1,
   "id": "3eec4694",
   "metadata": {},
   "outputs": [
    {
     "name": "stdout",
     "output_type": "stream",
     "text": [
      "[*********************100%***********************]  1 of 1 completed\n",
      "[*********************100%***********************]  1 of 1 completed\n"
     ]
    }
   ],
   "source": [
    "from pandas_datareader import data as pdr\n",
    "import yfinance as yf\n",
    "yf.pdr_override()\n",
    "\n",
    "psny=pdr.get_data_yahoo('PSNY', start='2021-07-10')\n",
    "msft=pdr.get_data_yahoo('MSFT', start='2021-07-10')\n",
    "\n",
    "psny_dpc=(psny['Close']/psny['Close'].shift(1)-1)*100\n",
    "psny_dpc.iloc[0]=0\n",
    "psny_dpc_cp=((100+psny_dpc)/100).cumprod()*100-100\n",
    "\n",
    "msft_dpc=(msft['Close']/msft['Close'].shift(1)-1)*100\n",
    "msft_dpc.iloc[0]=0\n",
    "msft_dpc_cp=((100+msft_dpc)/100)*100-100"
   ]
  },
  {
   "cell_type": "code",
   "execution_count": 2,
   "id": "5291d25d",
   "metadata": {},
   "outputs": [
    {
     "data": {
      "image/png": "[encoded data removed]",
      "text/plain": [
       "<Figure size 432x288 with 1 Axes>"
      ]
     },
     "metadata": {
      "needs_background": "light"
     },
     "output_type": "display_data"
    }
   ],
   "source": [
    "import matplotlib.pyplot as plt\n",
    "\n",
    "plt.plot(psny.index, psny_dpc_cp, 'b')\n",
    "plt.plot(msft.index, msft_dpc_cp, 'r--')\n",
    "plt.show()"
   ]
  },
  {
   "cell_type": "code",
   "execution_count": null,
   "id": "c64adcf7",
   "metadata": {},
   "outputs": [],
   "source": [
    "tk"
   ]
  }
 ],
 "metadata": {
  "kernelspec": {
   "display_name": "Python 3 (ipykernel)",
   "language": "python",
   "name": "python3"
  },
  "language_info": {
   "codemirror_mode": {
    "name": "ipython",
    "version": 3
   },
   "file_extension": ".py",
   "mimetype": "text/x-python",
   "name": "python",
   "nbconvert_exporter": "python",
   "pygments_lexer": "ipython3",
   "version": "3.9.12"
  }
 },
 "nbformat": 4,
 "nbformat_minor": 5
}
